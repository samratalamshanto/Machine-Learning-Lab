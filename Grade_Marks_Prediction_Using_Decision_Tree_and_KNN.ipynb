{
  "nbformat": 4,
  "nbformat_minor": 0,
  "metadata": {
    "colab": {
      "name": " Grade Marks Prediction Using Decision_Tree_and_KNN.ipynb",
      "provenance": [],
      "collapsed_sections": []
    },
    "kernelspec": {
      "name": "python3",
      "display_name": "Python 3"
    },
    "language_info": {
      "name": "python"
    }
  },
  "cells": [
    {
      "cell_type": "code",
      "metadata": {
        "id": "BZH5RyFdQ986"
      },
      "source": [
        "import numpy as np \n",
        "import pandas as pd \n",
        "import sklearn\n",
        "from sklearn.model_selection import train_test_split\n",
        "from sklearn.metrics import confusion_matrix \n",
        "from sklearn.tree import DecisionTreeClassifier \n",
        "from sklearn.metrics import accuracy_score \n",
        "from sklearn.datasets import load_iris\n",
        "from sklearn.metrics import  accuracy_score\n",
        "from sklearn.metrics import  confusion_matrix\n",
        "from matplotlib import pyplot as plt\n",
        "from sklearn import datasets\n",
        "from sklearn import tree"
      ],
      "execution_count": null,
      "outputs": []
    },
    {
      "cell_type": "code",
      "source": [
        ""
      ],
      "metadata": {
        "id": "N6l-qTrcmAf2"
      },
      "execution_count": null,
      "outputs": []
    },
    {
      "cell_type": "code",
      "source": [
        "df=pd.read_excel('/content/Grade Prediction Data (Responses).xlsx')\n",
        "df"
      ],
      "metadata": {
        "colab": {
          "base_uri": "https://localhost:8080/",
          "height": 672
        },
        "id": "TsBI3jX1mHMU",
        "outputId": "aeb09ed4-5883-46bb-d4f2-99a2344459ac"
      },
      "execution_count": null,
      "outputs": [
        {
          "output_type": "execute_result",
          "data": {
            "text/html": [
              "\n",
              "  <div id=\"df-a3369ab7-d73b-4573-b58e-47f2ee99acbd\">\n",
              "    <div class=\"colab-df-container\">\n",
              "      <div>\n",
              "<style scoped>\n",
              "    .dataframe tbody tr th:only-of-type {\n",
              "        vertical-align: middle;\n",
              "    }\n",
              "\n",
              "    .dataframe tbody tr th {\n",
              "        vertical-align: top;\n",
              "    }\n",
              "\n",
              "    .dataframe thead th {\n",
              "        text-align: right;\n",
              "    }\n",
              "</style>\n",
              "<table border=\"1\" class=\"dataframe\">\n",
              "  <thead>\n",
              "    <tr style=\"text-align: right;\">\n",
              "      <th></th>\n",
              "      <th>Daily Study Hour (0 - )</th>\n",
              "      <th>Average CT Marks (0 - 20)</th>\n",
              "      <th>Class Attendance (percentage)</th>\n",
              "      <th>PL/SPL Study Hours (Daily) (0 - )</th>\n",
              "      <th>PL/SPL Sleeping Hours (Daily Average)</th>\n",
              "      <th>Average Sleeping Hours (Daily)</th>\n",
              "      <th>Social Media Hours (Daily Average)</th>\n",
              "      <th>PL/SPL Social Media Hours (Daily Average)</th>\n",
              "      <th>Concentration in Classes (0 - 10)</th>\n",
              "      <th>Confidence (0 - 10)</th>\n",
              "      <th>Final Grade (last Semester - 3-2) (GPA)</th>\n",
              "    </tr>\n",
              "  </thead>\n",
              "  <tbody>\n",
              "    <tr>\n",
              "      <th>0</th>\n",
              "      <td>1</td>\n",
              "      <td>8</td>\n",
              "      <td>65</td>\n",
              "      <td>12</td>\n",
              "      <td>6</td>\n",
              "      <td>8.0</td>\n",
              "      <td>3</td>\n",
              "      <td>1</td>\n",
              "      <td>NaN</td>\n",
              "      <td>3</td>\n",
              "      <td>3.25</td>\n",
              "    </tr>\n",
              "    <tr>\n",
              "      <th>1</th>\n",
              "      <td>2</td>\n",
              "      <td>12</td>\n",
              "      <td>95</td>\n",
              "      <td>9</td>\n",
              "      <td>10</td>\n",
              "      <td>10.0</td>\n",
              "      <td>2</td>\n",
              "      <td>1</td>\n",
              "      <td>7.0</td>\n",
              "      <td>7</td>\n",
              "      <td>3.84</td>\n",
              "    </tr>\n",
              "    <tr>\n",
              "      <th>2</th>\n",
              "      <td>2</td>\n",
              "      <td>15</td>\n",
              "      <td>96</td>\n",
              "      <td>13</td>\n",
              "      <td>6</td>\n",
              "      <td>8.0</td>\n",
              "      <td>5</td>\n",
              "      <td>2</td>\n",
              "      <td>5.0</td>\n",
              "      <td>8</td>\n",
              "      <td>3.61</td>\n",
              "    </tr>\n",
              "    <tr>\n",
              "      <th>3</th>\n",
              "      <td>1</td>\n",
              "      <td>9</td>\n",
              "      <td>70</td>\n",
              "      <td>6</td>\n",
              "      <td>8</td>\n",
              "      <td>8.0</td>\n",
              "      <td>3</td>\n",
              "      <td>2</td>\n",
              "      <td>7.0</td>\n",
              "      <td>9</td>\n",
              "      <td>3.41</td>\n",
              "    </tr>\n",
              "    <tr>\n",
              "      <th>4</th>\n",
              "      <td>1</td>\n",
              "      <td>8</td>\n",
              "      <td>60</td>\n",
              "      <td>10</td>\n",
              "      <td>9</td>\n",
              "      <td>8.0</td>\n",
              "      <td>2</td>\n",
              "      <td>2</td>\n",
              "      <td>3.0</td>\n",
              "      <td>4</td>\n",
              "      <td>3.14</td>\n",
              "    </tr>\n",
              "    <tr>\n",
              "      <th>...</th>\n",
              "      <td>...</td>\n",
              "      <td>...</td>\n",
              "      <td>...</td>\n",
              "      <td>...</td>\n",
              "      <td>...</td>\n",
              "      <td>...</td>\n",
              "      <td>...</td>\n",
              "      <td>...</td>\n",
              "      <td>...</td>\n",
              "      <td>...</td>\n",
              "      <td>...</td>\n",
              "    </tr>\n",
              "    <tr>\n",
              "      <th>83</th>\n",
              "      <td>2</td>\n",
              "      <td>12</td>\n",
              "      <td>99</td>\n",
              "      <td>8</td>\n",
              "      <td>8</td>\n",
              "      <td>7.0</td>\n",
              "      <td>2</td>\n",
              "      <td>1</td>\n",
              "      <td>6.0</td>\n",
              "      <td>6</td>\n",
              "      <td>3.78</td>\n",
              "    </tr>\n",
              "    <tr>\n",
              "      <th>84</th>\n",
              "      <td>2</td>\n",
              "      <td>12</td>\n",
              "      <td>70</td>\n",
              "      <td>12</td>\n",
              "      <td>8</td>\n",
              "      <td>8.0</td>\n",
              "      <td>4</td>\n",
              "      <td>1</td>\n",
              "      <td>7.0</td>\n",
              "      <td>8</td>\n",
              "      <td>3.48</td>\n",
              "    </tr>\n",
              "    <tr>\n",
              "      <th>85</th>\n",
              "      <td>1</td>\n",
              "      <td>12</td>\n",
              "      <td>80</td>\n",
              "      <td>8</td>\n",
              "      <td>6</td>\n",
              "      <td>6.0</td>\n",
              "      <td>4</td>\n",
              "      <td>2</td>\n",
              "      <td>7.0</td>\n",
              "      <td>7</td>\n",
              "      <td>3.76</td>\n",
              "    </tr>\n",
              "    <tr>\n",
              "      <th>86</th>\n",
              "      <td>2</td>\n",
              "      <td>12</td>\n",
              "      <td>90</td>\n",
              "      <td>4</td>\n",
              "      <td>7</td>\n",
              "      <td>7.0</td>\n",
              "      <td>2</td>\n",
              "      <td>1</td>\n",
              "      <td>3.0</td>\n",
              "      <td>3</td>\n",
              "      <td>3.76</td>\n",
              "    </tr>\n",
              "    <tr>\n",
              "      <th>87</th>\n",
              "      <td>1</td>\n",
              "      <td>10</td>\n",
              "      <td>50</td>\n",
              "      <td>4</td>\n",
              "      <td>8</td>\n",
              "      <td>7.0</td>\n",
              "      <td>4</td>\n",
              "      <td>3</td>\n",
              "      <td>3.0</td>\n",
              "      <td>4</td>\n",
              "      <td>3.24</td>\n",
              "    </tr>\n",
              "  </tbody>\n",
              "</table>\n",
              "<p>88 rows × 11 columns</p>\n",
              "</div>\n",
              "      <button class=\"colab-df-convert\" onclick=\"convertToInteractive('df-a3369ab7-d73b-4573-b58e-47f2ee99acbd')\"\n",
              "              title=\"Convert this dataframe to an interactive table.\"\n",
              "              style=\"display:none;\">\n",
              "        \n",
              "  <svg xmlns=\"http://www.w3.org/2000/svg\" height=\"24px\"viewBox=\"0 0 24 24\"\n",
              "       width=\"24px\">\n",
              "    <path d=\"M0 0h24v24H0V0z\" fill=\"none\"/>\n",
              "    <path d=\"M18.56 5.44l.94 2.06.94-2.06 2.06-.94-2.06-.94-.94-2.06-.94 2.06-2.06.94zm-11 1L8.5 8.5l.94-2.06 2.06-.94-2.06-.94L8.5 2.5l-.94 2.06-2.06.94zm10 10l.94 2.06.94-2.06 2.06-.94-2.06-.94-.94-2.06-.94 2.06-2.06.94z\"/><path d=\"M17.41 7.96l-1.37-1.37c-.4-.4-.92-.59-1.43-.59-.52 0-1.04.2-1.43.59L10.3 9.45l-7.72 7.72c-.78.78-.78 2.05 0 2.83L4 21.41c.39.39.9.59 1.41.59.51 0 1.02-.2 1.41-.59l7.78-7.78 2.81-2.81c.8-.78.8-2.07 0-2.86zM5.41 20L4 18.59l7.72-7.72 1.47 1.35L5.41 20z\"/>\n",
              "  </svg>\n",
              "      </button>\n",
              "      \n",
              "  <style>\n",
              "    .colab-df-container {\n",
              "      display:flex;\n",
              "      flex-wrap:wrap;\n",
              "      gap: 12px;\n",
              "    }\n",
              "\n",
              "    .colab-df-convert {\n",
              "      background-color: #E8F0FE;\n",
              "      border: none;\n",
              "      border-radius: 50%;\n",
              "      cursor: pointer;\n",
              "      display: none;\n",
              "      fill: #1967D2;\n",
              "      height: 32px;\n",
              "      padding: 0 0 0 0;\n",
              "      width: 32px;\n",
              "    }\n",
              "\n",
              "    .colab-df-convert:hover {\n",
              "      background-color: #E2EBFA;\n",
              "      box-shadow: 0px 1px 2px rgba(60, 64, 67, 0.3), 0px 1px 3px 1px rgba(60, 64, 67, 0.15);\n",
              "      fill: #174EA6;\n",
              "    }\n",
              "\n",
              "    [theme=dark] .colab-df-convert {\n",
              "      background-color: #3B4455;\n",
              "      fill: #D2E3FC;\n",
              "    }\n",
              "\n",
              "    [theme=dark] .colab-df-convert:hover {\n",
              "      background-color: #434B5C;\n",
              "      box-shadow: 0px 1px 3px 1px rgba(0, 0, 0, 0.15);\n",
              "      filter: drop-shadow(0px 1px 2px rgba(0, 0, 0, 0.3));\n",
              "      fill: #FFFFFF;\n",
              "    }\n",
              "  </style>\n",
              "\n",
              "      <script>\n",
              "        const buttonEl =\n",
              "          document.querySelector('#df-a3369ab7-d73b-4573-b58e-47f2ee99acbd button.colab-df-convert');\n",
              "        buttonEl.style.display =\n",
              "          google.colab.kernel.accessAllowed ? 'block' : 'none';\n",
              "\n",
              "        async function convertToInteractive(key) {\n",
              "          const element = document.querySelector('#df-a3369ab7-d73b-4573-b58e-47f2ee99acbd');\n",
              "          const dataTable =\n",
              "            await google.colab.kernel.invokeFunction('convertToInteractive',\n",
              "                                                     [key], {});\n",
              "          if (!dataTable) return;\n",
              "\n",
              "          const docLinkHtml = 'Like what you see? Visit the ' +\n",
              "            '<a target=\"_blank\" href=https://colab.research.google.com/notebooks/data_table.ipynb>data table notebook</a>'\n",
              "            + ' to learn more about interactive tables.';\n",
              "          element.innerHTML = '';\n",
              "          dataTable['output_type'] = 'display_data';\n",
              "          await google.colab.output.renderOutput(dataTable, element);\n",
              "          const docLink = document.createElement('div');\n",
              "          docLink.innerHTML = docLinkHtml;\n",
              "          element.appendChild(docLink);\n",
              "        }\n",
              "      </script>\n",
              "    </div>\n",
              "  </div>\n",
              "  "
            ],
            "text/plain": [
              "    Daily Study Hour (0 - )  ...  Final Grade (last Semester - 3-2) (GPA) \n",
              "0                         1  ...                                      3.25\n",
              "1                         2  ...                                      3.84\n",
              "2                         2  ...                                      3.61\n",
              "3                         1  ...                                      3.41\n",
              "4                         1  ...                                      3.14\n",
              "..                      ...  ...                                       ...\n",
              "83                        2  ...                                      3.78\n",
              "84                        2  ...                                      3.48\n",
              "85                        1  ...                                      3.76\n",
              "86                        2  ...                                      3.76\n",
              "87                        1  ...                                      3.24\n",
              "\n",
              "[88 rows x 11 columns]"
            ]
          },
          "metadata": {},
          "execution_count": 3
        }
      ]
    },
    {
      "cell_type": "code",
      "source": [
        "df.isnull().sum()"
      ],
      "metadata": {
        "colab": {
          "base_uri": "https://localhost:8080/"
        },
        "id": "pV32Gy4UsVRG",
        "outputId": "890a6d4a-efe3-4fa7-b026-5c567c3d7130"
      },
      "execution_count": null,
      "outputs": [
        {
          "output_type": "execute_result",
          "data": {
            "text/plain": [
              "Daily Study Hour (0 - )                      0\n",
              "Average CT Marks (0 - 20)                    0\n",
              "Class Attendance (percentage)                0\n",
              "PL/SPL Study Hours (Daily) (0 - )            0\n",
              "PL/SPL Sleeping Hours (Daily Average)        0\n",
              "Average Sleeping Hours (Daily)               0\n",
              "Social Media Hours (Daily Average)           0\n",
              "PL/SPL Social Media Hours (Daily Average)    0\n",
              "Concentration in Classes (0 - 10)            1\n",
              "Confidence (0 - 10)                          0\n",
              "Final Grade (last Semester - 3-2) (GPA)      0\n",
              "dtype: int64"
            ]
          },
          "metadata": {},
          "execution_count": 4
        }
      ]
    },
    {
      "cell_type": "code",
      "source": [
        "df['Concentration in Classes (0 - 10)'].fillna(4,inplace=True)\n",
        "df.isnull().sum()"
      ],
      "metadata": {
        "colab": {
          "base_uri": "https://localhost:8080/"
        },
        "id": "b6yJIm_7syVZ",
        "outputId": "6c7adf83-73ff-4831-82bc-38905543e25f"
      },
      "execution_count": null,
      "outputs": [
        {
          "output_type": "execute_result",
          "data": {
            "text/plain": [
              "Daily Study Hour (0 - )                      0\n",
              "Average CT Marks (0 - 20)                    0\n",
              "Class Attendance (percentage)                0\n",
              "PL/SPL Study Hours (Daily) (0 - )            0\n",
              "PL/SPL Sleeping Hours (Daily Average)        0\n",
              "Average Sleeping Hours (Daily)               0\n",
              "Social Media Hours (Daily Average)           0\n",
              "PL/SPL Social Media Hours (Daily Average)    0\n",
              "Concentration in Classes (0 - 10)            0\n",
              "Confidence (0 - 10)                          0\n",
              "Final Grade (last Semester - 3-2) (GPA)      0\n",
              "dtype: int64"
            ]
          },
          "metadata": {},
          "execution_count": 5
        }
      ]
    },
    {
      "cell_type": "code",
      "source": [
        "col=df.columns"
      ],
      "metadata": {
        "id": "MONOlLjPnP00"
      },
      "execution_count": null,
      "outputs": []
    },
    {
      "cell_type": "code",
      "source": [
        "target=[]\n",
        "def category(x):\n",
        "  if(x<3.00):\n",
        "    return \"low\"\n",
        "  elif(x>3.50):\n",
        "    return \"high\"\n",
        "  else:\n",
        "    return \"medium\"\n",
        "\n",
        "\n",
        "\n",
        "\n",
        "df['target']=df['Final Grade (last Semester - 3-2) (GPA) '].apply(category)\n",
        "df.head()\n"
      ],
      "metadata": {
        "colab": {
          "base_uri": "https://localhost:8080/",
          "height": 232
        },
        "id": "aWTs-CHsmNe8",
        "outputId": "5df02a7c-2a00-4622-a4bd-91dfc7fa59e6"
      },
      "execution_count": null,
      "outputs": [
        {
          "output_type": "execute_result",
          "data": {
            "text/html": [
              "\n",
              "  <div id=\"df-60911602-4b31-4c88-a753-62d35552bbaf\">\n",
              "    <div class=\"colab-df-container\">\n",
              "      <div>\n",
              "<style scoped>\n",
              "    .dataframe tbody tr th:only-of-type {\n",
              "        vertical-align: middle;\n",
              "    }\n",
              "\n",
              "    .dataframe tbody tr th {\n",
              "        vertical-align: top;\n",
              "    }\n",
              "\n",
              "    .dataframe thead th {\n",
              "        text-align: right;\n",
              "    }\n",
              "</style>\n",
              "<table border=\"1\" class=\"dataframe\">\n",
              "  <thead>\n",
              "    <tr style=\"text-align: right;\">\n",
              "      <th></th>\n",
              "      <th>Daily Study Hour (0 - )</th>\n",
              "      <th>Average CT Marks (0 - 20)</th>\n",
              "      <th>Class Attendance (percentage)</th>\n",
              "      <th>PL/SPL Study Hours (Daily) (0 - )</th>\n",
              "      <th>PL/SPL Sleeping Hours (Daily Average)</th>\n",
              "      <th>Average Sleeping Hours (Daily)</th>\n",
              "      <th>Social Media Hours (Daily Average)</th>\n",
              "      <th>PL/SPL Social Media Hours (Daily Average)</th>\n",
              "      <th>Concentration in Classes (0 - 10)</th>\n",
              "      <th>Confidence (0 - 10)</th>\n",
              "      <th>Final Grade (last Semester - 3-2) (GPA)</th>\n",
              "      <th>target</th>\n",
              "    </tr>\n",
              "  </thead>\n",
              "  <tbody>\n",
              "    <tr>\n",
              "      <th>0</th>\n",
              "      <td>1</td>\n",
              "      <td>8</td>\n",
              "      <td>65</td>\n",
              "      <td>12</td>\n",
              "      <td>6</td>\n",
              "      <td>8.0</td>\n",
              "      <td>3</td>\n",
              "      <td>1</td>\n",
              "      <td>4.0</td>\n",
              "      <td>3</td>\n",
              "      <td>3.25</td>\n",
              "      <td>medium</td>\n",
              "    </tr>\n",
              "    <tr>\n",
              "      <th>1</th>\n",
              "      <td>2</td>\n",
              "      <td>12</td>\n",
              "      <td>95</td>\n",
              "      <td>9</td>\n",
              "      <td>10</td>\n",
              "      <td>10.0</td>\n",
              "      <td>2</td>\n",
              "      <td>1</td>\n",
              "      <td>7.0</td>\n",
              "      <td>7</td>\n",
              "      <td>3.84</td>\n",
              "      <td>high</td>\n",
              "    </tr>\n",
              "    <tr>\n",
              "      <th>2</th>\n",
              "      <td>2</td>\n",
              "      <td>15</td>\n",
              "      <td>96</td>\n",
              "      <td>13</td>\n",
              "      <td>6</td>\n",
              "      <td>8.0</td>\n",
              "      <td>5</td>\n",
              "      <td>2</td>\n",
              "      <td>5.0</td>\n",
              "      <td>8</td>\n",
              "      <td>3.61</td>\n",
              "      <td>high</td>\n",
              "    </tr>\n",
              "    <tr>\n",
              "      <th>3</th>\n",
              "      <td>1</td>\n",
              "      <td>9</td>\n",
              "      <td>70</td>\n",
              "      <td>6</td>\n",
              "      <td>8</td>\n",
              "      <td>8.0</td>\n",
              "      <td>3</td>\n",
              "      <td>2</td>\n",
              "      <td>7.0</td>\n",
              "      <td>9</td>\n",
              "      <td>3.41</td>\n",
              "      <td>medium</td>\n",
              "    </tr>\n",
              "    <tr>\n",
              "      <th>4</th>\n",
              "      <td>1</td>\n",
              "      <td>8</td>\n",
              "      <td>60</td>\n",
              "      <td>10</td>\n",
              "      <td>9</td>\n",
              "      <td>8.0</td>\n",
              "      <td>2</td>\n",
              "      <td>2</td>\n",
              "      <td>3.0</td>\n",
              "      <td>4</td>\n",
              "      <td>3.14</td>\n",
              "      <td>medium</td>\n",
              "    </tr>\n",
              "  </tbody>\n",
              "</table>\n",
              "</div>\n",
              "      <button class=\"colab-df-convert\" onclick=\"convertToInteractive('df-60911602-4b31-4c88-a753-62d35552bbaf')\"\n",
              "              title=\"Convert this dataframe to an interactive table.\"\n",
              "              style=\"display:none;\">\n",
              "        \n",
              "  <svg xmlns=\"http://www.w3.org/2000/svg\" height=\"24px\"viewBox=\"0 0 24 24\"\n",
              "       width=\"24px\">\n",
              "    <path d=\"M0 0h24v24H0V0z\" fill=\"none\"/>\n",
              "    <path d=\"M18.56 5.44l.94 2.06.94-2.06 2.06-.94-2.06-.94-.94-2.06-.94 2.06-2.06.94zm-11 1L8.5 8.5l.94-2.06 2.06-.94-2.06-.94L8.5 2.5l-.94 2.06-2.06.94zm10 10l.94 2.06.94-2.06 2.06-.94-2.06-.94-.94-2.06-.94 2.06-2.06.94z\"/><path d=\"M17.41 7.96l-1.37-1.37c-.4-.4-.92-.59-1.43-.59-.52 0-1.04.2-1.43.59L10.3 9.45l-7.72 7.72c-.78.78-.78 2.05 0 2.83L4 21.41c.39.39.9.59 1.41.59.51 0 1.02-.2 1.41-.59l7.78-7.78 2.81-2.81c.8-.78.8-2.07 0-2.86zM5.41 20L4 18.59l7.72-7.72 1.47 1.35L5.41 20z\"/>\n",
              "  </svg>\n",
              "      </button>\n",
              "      \n",
              "  <style>\n",
              "    .colab-df-container {\n",
              "      display:flex;\n",
              "      flex-wrap:wrap;\n",
              "      gap: 12px;\n",
              "    }\n",
              "\n",
              "    .colab-df-convert {\n",
              "      background-color: #E8F0FE;\n",
              "      border: none;\n",
              "      border-radius: 50%;\n",
              "      cursor: pointer;\n",
              "      display: none;\n",
              "      fill: #1967D2;\n",
              "      height: 32px;\n",
              "      padding: 0 0 0 0;\n",
              "      width: 32px;\n",
              "    }\n",
              "\n",
              "    .colab-df-convert:hover {\n",
              "      background-color: #E2EBFA;\n",
              "      box-shadow: 0px 1px 2px rgba(60, 64, 67, 0.3), 0px 1px 3px 1px rgba(60, 64, 67, 0.15);\n",
              "      fill: #174EA6;\n",
              "    }\n",
              "\n",
              "    [theme=dark] .colab-df-convert {\n",
              "      background-color: #3B4455;\n",
              "      fill: #D2E3FC;\n",
              "    }\n",
              "\n",
              "    [theme=dark] .colab-df-convert:hover {\n",
              "      background-color: #434B5C;\n",
              "      box-shadow: 0px 1px 3px 1px rgba(0, 0, 0, 0.15);\n",
              "      filter: drop-shadow(0px 1px 2px rgba(0, 0, 0, 0.3));\n",
              "      fill: #FFFFFF;\n",
              "    }\n",
              "  </style>\n",
              "\n",
              "      <script>\n",
              "        const buttonEl =\n",
              "          document.querySelector('#df-60911602-4b31-4c88-a753-62d35552bbaf button.colab-df-convert');\n",
              "        buttonEl.style.display =\n",
              "          google.colab.kernel.accessAllowed ? 'block' : 'none';\n",
              "\n",
              "        async function convertToInteractive(key) {\n",
              "          const element = document.querySelector('#df-60911602-4b31-4c88-a753-62d35552bbaf');\n",
              "          const dataTable =\n",
              "            await google.colab.kernel.invokeFunction('convertToInteractive',\n",
              "                                                     [key], {});\n",
              "          if (!dataTable) return;\n",
              "\n",
              "          const docLinkHtml = 'Like what you see? Visit the ' +\n",
              "            '<a target=\"_blank\" href=https://colab.research.google.com/notebooks/data_table.ipynb>data table notebook</a>'\n",
              "            + ' to learn more about interactive tables.';\n",
              "          element.innerHTML = '';\n",
              "          dataTable['output_type'] = 'display_data';\n",
              "          await google.colab.output.renderOutput(dataTable, element);\n",
              "          const docLink = document.createElement('div');\n",
              "          docLink.innerHTML = docLinkHtml;\n",
              "          element.appendChild(docLink);\n",
              "        }\n",
              "      </script>\n",
              "    </div>\n",
              "  </div>\n",
              "  "
            ],
            "text/plain": [
              "   Daily Study Hour (0 - )  ...  target\n",
              "0                        1  ...  medium\n",
              "1                        2  ...    high\n",
              "2                        2  ...    high\n",
              "3                        1  ...  medium\n",
              "4                        1  ...  medium\n",
              "\n",
              "[5 rows x 12 columns]"
            ]
          },
          "metadata": {},
          "execution_count": 7
        }
      ]
    },
    {
      "cell_type": "code",
      "source": [
        "X=df[col[:10]]\n",
        "X"
      ],
      "metadata": {
        "colab": {
          "base_uri": "https://localhost:8080/",
          "height": 672
        },
        "id": "PzxFtRTOodqm",
        "outputId": "fc04c437-1f3c-4710-d8d7-57f7f15ebe00"
      },
      "execution_count": null,
      "outputs": [
        {
          "output_type": "execute_result",
          "data": {
            "text/html": [
              "\n",
              "  <div id=\"df-01abaafc-1760-478e-aca5-e701d5224661\">\n",
              "    <div class=\"colab-df-container\">\n",
              "      <div>\n",
              "<style scoped>\n",
              "    .dataframe tbody tr th:only-of-type {\n",
              "        vertical-align: middle;\n",
              "    }\n",
              "\n",
              "    .dataframe tbody tr th {\n",
              "        vertical-align: top;\n",
              "    }\n",
              "\n",
              "    .dataframe thead th {\n",
              "        text-align: right;\n",
              "    }\n",
              "</style>\n",
              "<table border=\"1\" class=\"dataframe\">\n",
              "  <thead>\n",
              "    <tr style=\"text-align: right;\">\n",
              "      <th></th>\n",
              "      <th>Daily Study Hour (0 - )</th>\n",
              "      <th>Average CT Marks (0 - 20)</th>\n",
              "      <th>Class Attendance (percentage)</th>\n",
              "      <th>PL/SPL Study Hours (Daily) (0 - )</th>\n",
              "      <th>PL/SPL Sleeping Hours (Daily Average)</th>\n",
              "      <th>Average Sleeping Hours (Daily)</th>\n",
              "      <th>Social Media Hours (Daily Average)</th>\n",
              "      <th>PL/SPL Social Media Hours (Daily Average)</th>\n",
              "      <th>Concentration in Classes (0 - 10)</th>\n",
              "      <th>Confidence (0 - 10)</th>\n",
              "    </tr>\n",
              "  </thead>\n",
              "  <tbody>\n",
              "    <tr>\n",
              "      <th>0</th>\n",
              "      <td>1</td>\n",
              "      <td>8</td>\n",
              "      <td>65</td>\n",
              "      <td>12</td>\n",
              "      <td>6</td>\n",
              "      <td>8.0</td>\n",
              "      <td>3</td>\n",
              "      <td>1</td>\n",
              "      <td>4.0</td>\n",
              "      <td>3</td>\n",
              "    </tr>\n",
              "    <tr>\n",
              "      <th>1</th>\n",
              "      <td>2</td>\n",
              "      <td>12</td>\n",
              "      <td>95</td>\n",
              "      <td>9</td>\n",
              "      <td>10</td>\n",
              "      <td>10.0</td>\n",
              "      <td>2</td>\n",
              "      <td>1</td>\n",
              "      <td>7.0</td>\n",
              "      <td>7</td>\n",
              "    </tr>\n",
              "    <tr>\n",
              "      <th>2</th>\n",
              "      <td>2</td>\n",
              "      <td>15</td>\n",
              "      <td>96</td>\n",
              "      <td>13</td>\n",
              "      <td>6</td>\n",
              "      <td>8.0</td>\n",
              "      <td>5</td>\n",
              "      <td>2</td>\n",
              "      <td>5.0</td>\n",
              "      <td>8</td>\n",
              "    </tr>\n",
              "    <tr>\n",
              "      <th>3</th>\n",
              "      <td>1</td>\n",
              "      <td>9</td>\n",
              "      <td>70</td>\n",
              "      <td>6</td>\n",
              "      <td>8</td>\n",
              "      <td>8.0</td>\n",
              "      <td>3</td>\n",
              "      <td>2</td>\n",
              "      <td>7.0</td>\n",
              "      <td>9</td>\n",
              "    </tr>\n",
              "    <tr>\n",
              "      <th>4</th>\n",
              "      <td>1</td>\n",
              "      <td>8</td>\n",
              "      <td>60</td>\n",
              "      <td>10</td>\n",
              "      <td>9</td>\n",
              "      <td>8.0</td>\n",
              "      <td>2</td>\n",
              "      <td>2</td>\n",
              "      <td>3.0</td>\n",
              "      <td>4</td>\n",
              "    </tr>\n",
              "    <tr>\n",
              "      <th>...</th>\n",
              "      <td>...</td>\n",
              "      <td>...</td>\n",
              "      <td>...</td>\n",
              "      <td>...</td>\n",
              "      <td>...</td>\n",
              "      <td>...</td>\n",
              "      <td>...</td>\n",
              "      <td>...</td>\n",
              "      <td>...</td>\n",
              "      <td>...</td>\n",
              "    </tr>\n",
              "    <tr>\n",
              "      <th>83</th>\n",
              "      <td>2</td>\n",
              "      <td>12</td>\n",
              "      <td>99</td>\n",
              "      <td>8</td>\n",
              "      <td>8</td>\n",
              "      <td>7.0</td>\n",
              "      <td>2</td>\n",
              "      <td>1</td>\n",
              "      <td>6.0</td>\n",
              "      <td>6</td>\n",
              "    </tr>\n",
              "    <tr>\n",
              "      <th>84</th>\n",
              "      <td>2</td>\n",
              "      <td>12</td>\n",
              "      <td>70</td>\n",
              "      <td>12</td>\n",
              "      <td>8</td>\n",
              "      <td>8.0</td>\n",
              "      <td>4</td>\n",
              "      <td>1</td>\n",
              "      <td>7.0</td>\n",
              "      <td>8</td>\n",
              "    </tr>\n",
              "    <tr>\n",
              "      <th>85</th>\n",
              "      <td>1</td>\n",
              "      <td>12</td>\n",
              "      <td>80</td>\n",
              "      <td>8</td>\n",
              "      <td>6</td>\n",
              "      <td>6.0</td>\n",
              "      <td>4</td>\n",
              "      <td>2</td>\n",
              "      <td>7.0</td>\n",
              "      <td>7</td>\n",
              "    </tr>\n",
              "    <tr>\n",
              "      <th>86</th>\n",
              "      <td>2</td>\n",
              "      <td>12</td>\n",
              "      <td>90</td>\n",
              "      <td>4</td>\n",
              "      <td>7</td>\n",
              "      <td>7.0</td>\n",
              "      <td>2</td>\n",
              "      <td>1</td>\n",
              "      <td>3.0</td>\n",
              "      <td>3</td>\n",
              "    </tr>\n",
              "    <tr>\n",
              "      <th>87</th>\n",
              "      <td>1</td>\n",
              "      <td>10</td>\n",
              "      <td>50</td>\n",
              "      <td>4</td>\n",
              "      <td>8</td>\n",
              "      <td>7.0</td>\n",
              "      <td>4</td>\n",
              "      <td>3</td>\n",
              "      <td>3.0</td>\n",
              "      <td>4</td>\n",
              "    </tr>\n",
              "  </tbody>\n",
              "</table>\n",
              "<p>88 rows × 10 columns</p>\n",
              "</div>\n",
              "      <button class=\"colab-df-convert\" onclick=\"convertToInteractive('df-01abaafc-1760-478e-aca5-e701d5224661')\"\n",
              "              title=\"Convert this dataframe to an interactive table.\"\n",
              "              style=\"display:none;\">\n",
              "        \n",
              "  <svg xmlns=\"http://www.w3.org/2000/svg\" height=\"24px\"viewBox=\"0 0 24 24\"\n",
              "       width=\"24px\">\n",
              "    <path d=\"M0 0h24v24H0V0z\" fill=\"none\"/>\n",
              "    <path d=\"M18.56 5.44l.94 2.06.94-2.06 2.06-.94-2.06-.94-.94-2.06-.94 2.06-2.06.94zm-11 1L8.5 8.5l.94-2.06 2.06-.94-2.06-.94L8.5 2.5l-.94 2.06-2.06.94zm10 10l.94 2.06.94-2.06 2.06-.94-2.06-.94-.94-2.06-.94 2.06-2.06.94z\"/><path d=\"M17.41 7.96l-1.37-1.37c-.4-.4-.92-.59-1.43-.59-.52 0-1.04.2-1.43.59L10.3 9.45l-7.72 7.72c-.78.78-.78 2.05 0 2.83L4 21.41c.39.39.9.59 1.41.59.51 0 1.02-.2 1.41-.59l7.78-7.78 2.81-2.81c.8-.78.8-2.07 0-2.86zM5.41 20L4 18.59l7.72-7.72 1.47 1.35L5.41 20z\"/>\n",
              "  </svg>\n",
              "      </button>\n",
              "      \n",
              "  <style>\n",
              "    .colab-df-container {\n",
              "      display:flex;\n",
              "      flex-wrap:wrap;\n",
              "      gap: 12px;\n",
              "    }\n",
              "\n",
              "    .colab-df-convert {\n",
              "      background-color: #E8F0FE;\n",
              "      border: none;\n",
              "      border-radius: 50%;\n",
              "      cursor: pointer;\n",
              "      display: none;\n",
              "      fill: #1967D2;\n",
              "      height: 32px;\n",
              "      padding: 0 0 0 0;\n",
              "      width: 32px;\n",
              "    }\n",
              "\n",
              "    .colab-df-convert:hover {\n",
              "      background-color: #E2EBFA;\n",
              "      box-shadow: 0px 1px 2px rgba(60, 64, 67, 0.3), 0px 1px 3px 1px rgba(60, 64, 67, 0.15);\n",
              "      fill: #174EA6;\n",
              "    }\n",
              "\n",
              "    [theme=dark] .colab-df-convert {\n",
              "      background-color: #3B4455;\n",
              "      fill: #D2E3FC;\n",
              "    }\n",
              "\n",
              "    [theme=dark] .colab-df-convert:hover {\n",
              "      background-color: #434B5C;\n",
              "      box-shadow: 0px 1px 3px 1px rgba(0, 0, 0, 0.15);\n",
              "      filter: drop-shadow(0px 1px 2px rgba(0, 0, 0, 0.3));\n",
              "      fill: #FFFFFF;\n",
              "    }\n",
              "  </style>\n",
              "\n",
              "      <script>\n",
              "        const buttonEl =\n",
              "          document.querySelector('#df-01abaafc-1760-478e-aca5-e701d5224661 button.colab-df-convert');\n",
              "        buttonEl.style.display =\n",
              "          google.colab.kernel.accessAllowed ? 'block' : 'none';\n",
              "\n",
              "        async function convertToInteractive(key) {\n",
              "          const element = document.querySelector('#df-01abaafc-1760-478e-aca5-e701d5224661');\n",
              "          const dataTable =\n",
              "            await google.colab.kernel.invokeFunction('convertToInteractive',\n",
              "                                                     [key], {});\n",
              "          if (!dataTable) return;\n",
              "\n",
              "          const docLinkHtml = 'Like what you see? Visit the ' +\n",
              "            '<a target=\"_blank\" href=https://colab.research.google.com/notebooks/data_table.ipynb>data table notebook</a>'\n",
              "            + ' to learn more about interactive tables.';\n",
              "          element.innerHTML = '';\n",
              "          dataTable['output_type'] = 'display_data';\n",
              "          await google.colab.output.renderOutput(dataTable, element);\n",
              "          const docLink = document.createElement('div');\n",
              "          docLink.innerHTML = docLinkHtml;\n",
              "          element.appendChild(docLink);\n",
              "        }\n",
              "      </script>\n",
              "    </div>\n",
              "  </div>\n",
              "  "
            ],
            "text/plain": [
              "    Daily Study Hour (0 - )  ...  Confidence (0 - 10)\n",
              "0                         1  ...                    3\n",
              "1                         2  ...                    7\n",
              "2                         2  ...                    8\n",
              "3                         1  ...                    9\n",
              "4                         1  ...                    4\n",
              "..                      ...  ...                  ...\n",
              "83                        2  ...                    6\n",
              "84                        2  ...                    8\n",
              "85                        1  ...                    7\n",
              "86                        2  ...                    3\n",
              "87                        1  ...                    4\n",
              "\n",
              "[88 rows x 10 columns]"
            ]
          },
          "metadata": {},
          "execution_count": 8
        }
      ]
    },
    {
      "cell_type": "code",
      "source": [
        "df['target'].value_counts()"
      ],
      "metadata": {
        "colab": {
          "base_uri": "https://localhost:8080/"
        },
        "id": "-DE8zLZeqzCF",
        "outputId": "93d31ef6-8d90-45a5-81b5-b51330961d11"
      },
      "execution_count": null,
      "outputs": [
        {
          "output_type": "execute_result",
          "data": {
            "text/plain": [
              "high      58\n",
              "medium    25\n",
              "low        5\n",
              "Name: target, dtype: int64"
            ]
          },
          "metadata": {},
          "execution_count": 16
        }
      ]
    },
    {
      "cell_type": "code",
      "source": [
        "Y=df['target']\n",
        "Y"
      ],
      "metadata": {
        "colab": {
          "base_uri": "https://localhost:8080/"
        },
        "id": "WUeixY2Nqwxv",
        "outputId": "fec59eaf-4ad8-4b82-86cd-89a4da2d1d58"
      },
      "execution_count": null,
      "outputs": [
        {
          "output_type": "execute_result",
          "data": {
            "text/plain": [
              "0     medium\n",
              "1       high\n",
              "2       high\n",
              "3     medium\n",
              "4     medium\n",
              "       ...  \n",
              "83      high\n",
              "84    medium\n",
              "85      high\n",
              "86      high\n",
              "87    medium\n",
              "Name: target, Length: 88, dtype: object"
            ]
          },
          "metadata": {},
          "execution_count": 9
        }
      ]
    },
    {
      "cell_type": "code",
      "metadata": {
        "id": "ol1HrfteRaAH"
      },
      "source": [
        "# Splitting the dataset into train and test \n",
        "X_train, X_test, y_train, y_test = train_test_split(X, Y, test_size = 0.2, random_state = 42)"
      ],
      "execution_count": null,
      "outputs": []
    },
    {
      "cell_type": "code",
      "metadata": {
        "colab": {
          "base_uri": "https://localhost:8080/"
        },
        "id": "WI5OJTKIaE1f",
        "outputId": "a236e3ce-d4ca-4a87-a6e3-2b41f28bc337"
      },
      "source": [
        "# Decision tree classifier \n",
        "DT = DecisionTreeClassifier(criterion='entropy')\n",
        "\n",
        "#fitting the training data\n",
        "DT.fit(X_train, y_train)"
      ],
      "execution_count": null,
      "outputs": [
        {
          "output_type": "execute_result",
          "data": {
            "text/plain": [
              "DecisionTreeClassifier(criterion='entropy')"
            ]
          },
          "metadata": {},
          "execution_count": 11
        }
      ]
    },
    {
      "cell_type": "code",
      "metadata": {
        "id": "5Lv4e_ulac-g",
        "colab": {
          "base_uri": "https://localhost:8080/"
        },
        "outputId": "dce44462-496c-430f-ca7f-77021d7e7b91"
      },
      "source": [
        "# # prediction on random data\n",
        "# X=[[6.4,1.8 ,6.6 ,2.1]]\n",
        "# Y_pred=DT.predict(X)\n",
        "# print(Y_pred)\n",
        "\n",
        "# prediction on X_test (testing data )\n",
        "Y_pred=DT.predict(X_test)\n",
        "print(Y_pred)"
      ],
      "execution_count": null,
      "outputs": [
        {
          "output_type": "stream",
          "name": "stdout",
          "text": [
            "['high' 'medium' 'high' 'high' 'high' 'medium' 'medium' 'high' 'high'\n",
            " 'low' 'medium' 'medium' 'high' 'high' 'high' 'high' 'high' 'low']\n"
          ]
        }
      ]
    },
    {
      "cell_type": "code",
      "metadata": {
        "id": "8ea0eTYwak0G",
        "colab": {
          "base_uri": "https://localhost:8080/"
        },
        "outputId": "2e913218-77ea-4954-dc1c-988bd604d23b"
      },
      "source": [
        "#Accuray of the model \n",
        "print(\"Accuracy:\", accuracy_score(y_test, Y_pred))\n",
        "#confusion matrix\n",
        "cm=np.array(confusion_matrix(y_test, Y_pred))\n",
        "cm"
      ],
      "execution_count": null,
      "outputs": [
        {
          "output_type": "stream",
          "name": "stdout",
          "text": [
            "Accuracy: 0.7777777777777778\n"
          ]
        },
        {
          "output_type": "execute_result",
          "data": {
            "text/plain": [
              "array([[9, 0, 1],\n",
              "       [0, 1, 0],\n",
              "       [2, 1, 4]])"
            ]
          },
          "metadata": {},
          "execution_count": 15
        }
      ]
    },
    {
      "cell_type": "code",
      "metadata": {
        "colab": {
          "base_uri": "https://localhost:8080/",
          "height": 845
        },
        "id": "WVXkTl_7bjiR",
        "outputId": "62f8e8a3-2b69-4ca8-e39a-0df207b3e5d7"
      },
      "source": [
        "#plot decision tree\n",
        "fig, ax = plt.subplots(figsize=(15, 15)) #figsize value changes the size of plot\n",
        "tree.plot_tree(DT,ax=ax,feature_names=col[:10])\n",
        "plt.show()"
      ],
      "execution_count": null,
      "outputs": [
        {
          "output_type": "display_data",
          "data": {
            "image/png": "[encoded data removed]",
            "text/plain": [
              "<Figure size 1080x1080 with 1 Axes>"
            ]
          },
          "metadata": {
            "needs_background": "light"
          }
        }
      ]
    },
    {
      "cell_type": "code",
      "metadata": {
        "colab": {
          "base_uri": "https://localhost:8080/",
          "height": 1000
        },
        "id": "O2_TPwR4fDNB",
        "outputId": "5c4945e6-132c-4446-96c7-b3eb656063ea"
      },
      "source": [
        "import graphviz \n",
        "dot_data = tree.export_graphviz(DT, out_file=None, \n",
        "                      feature_names=col[:10],  \n",
        "                      class_names=df.target,  \n",
        "                      filled=True, rounded=True,  \n",
        "                      special_characters=True)  \n",
        "graph = graphviz.Source(dot_data)  \n",
        "graph "
      ],
      "execution_count": null,
      "outputs": [
        {
          "output_type": "execute_result",
          "data": {
            "text/plain": [
              "<graphviz.files.Source at 0x7fe0a1023650>"
            ],
            "image/svg+xml": "<?xml version=\"1.0\" encoding=\"UTF-8\" standalone=\"no\"?>\n<!DOCTYPE svg PUBLIC \"-//W3C//DTD SVG 1.1//EN\"\n \"http://www.w3.org/Graphics/SVG/1.1/DTD/svg11.dtd\">\n<!-- Generated by graphviz version 2.40.1 (20161225.0304)\n -->\n<!-- Title: Tree Pages: 1 -->\n<svg width=\"1522pt\" height=\"1028pt\"\n viewBox=\"0.00 0.00 1522.00 1028.00\" xmlns=\"http://www.w3.org/2000/svg\" xmlns:xlink=\"http://www.w3.org/1999/xlink\">\n<g id=\"graph0\" class=\"graph\" transform=\"scale(1 1) rotate(0) translate(4 1024)\">\n<title>Tree</title>\n<polygon fill=\"#ffffff\" stroke=\"transparent\" points=\"-4,4 -4,-1024 1518,-1024 1518,4 -4,4\"/>\n<!-- 0 -->\n<g id=\"node1\" class=\"node\">\n<title>0</title>\n<path fill=\"#f0b68d\" stroke=\"#000000\" d=\"M974,-1020C974,-1020 767,-1020 767,-1020 761,-1020 755,-1014 755,-1008 755,-1008 755,-949 755,-949 755,-943 761,-937 767,-937 767,-937 974,-937 974,-937 980,-937 986,-943 986,-949 986,-949 986,-1008 986,-1008 986,-1014 980,-1020 974,-1020\"/>\n<text text-anchor=\"start\" x=\"763\" y=\"-1004.8\" font-family=\"Helvetica,sans-Serif\" font-size=\"14.00\" fill=\"#000000\">Average CT Marks (0 &#45; 20) ≤ 13.5</text>\n<text text-anchor=\"start\" x=\"819.5\" y=\"-989.8\" font-family=\"Helvetica,sans-Serif\" font-size=\"14.00\" fill=\"#000000\">entropy = 1.113</text>\n<text text-anchor=\"start\" x=\"826.5\" y=\"-974.8\" font-family=\"Helvetica,sans-Serif\" font-size=\"14.00\" fill=\"#000000\">samples = 70</text>\n<text text-anchor=\"start\" x=\"813\" y=\"-959.8\" font-family=\"Helvetica,sans-Serif\" font-size=\"14.00\" fill=\"#000000\">value = [48, 4, 18]</text>\n<text text-anchor=\"start\" x=\"819.5\" y=\"-944.8\" font-family=\"Helvetica,sans-Serif\" font-size=\"14.00\" fill=\"#000000\">class = medium</text>\n</g>\n<!-- 1 -->\n<g id=\"node2\" class=\"node\">\n<title>1</title>\n<path fill=\"#ffffff\" stroke=\"#000000\" d=\"M827.5,-901C827.5,-901 675.5,-901 675.5,-901 669.5,-901 663.5,-895 663.5,-889 663.5,-889 663.5,-830 663.5,-830 663.5,-824 669.5,-818 675.5,-818 675.5,-818 827.5,-818 827.5,-818 833.5,-818 839.5,-824 839.5,-830 839.5,-830 839.5,-889 839.5,-889 839.5,-895 833.5,-901 827.5,-901\"/>\n<text text-anchor=\"start\" x=\"671.5\" y=\"-885.8\" font-family=\"Helvetica,sans-Serif\" font-size=\"14.00\" fill=\"#000000\">Confidence (0 &#45; 10) ≤ 2.5</text>\n<text text-anchor=\"start\" x=\"700.5\" y=\"-870.8\" font-family=\"Helvetica,sans-Serif\" font-size=\"14.00\" fill=\"#000000\">entropy = 1.419</text>\n<text text-anchor=\"start\" x=\"707.5\" y=\"-855.8\" font-family=\"Helvetica,sans-Serif\" font-size=\"14.00\" fill=\"#000000\">samples = 32</text>\n<text text-anchor=\"start\" x=\"694\" y=\"-840.8\" font-family=\"Helvetica,sans-Serif\" font-size=\"14.00\" fill=\"#000000\">value = [14, 4, 14]</text>\n<text text-anchor=\"start\" x=\"700.5\" y=\"-825.8\" font-family=\"Helvetica,sans-Serif\" font-size=\"14.00\" fill=\"#000000\">class = medium</text>\n</g>\n<!-- 0&#45;&gt;1 -->\n<g id=\"edge1\" class=\"edge\">\n<title>0&#45;&gt;1</title>\n<path fill=\"none\" stroke=\"#000000\" d=\"M828.8796,-936.8796C819.6931,-927.6931 809.8798,-917.8798 800.4336,-908.4336\"/>\n<polygon fill=\"#000000\" stroke=\"#000000\" points=\"802.8441,-905.8943 793.2981,-901.2981 797.8943,-910.8441 802.8441,-905.8943\"/>\n<text text-anchor=\"middle\" x=\"793.2981\" y=\"-922.5981\" font-family=\"Helvetica,sans-Serif\" font-size=\"14.00\" fill=\"#000000\">True</text>\n</g>\n<!-- 26 -->\n<g id=\"node27\" class=\"node\">\n<title>26</title>\n<path fill=\"#e89050\" stroke=\"#000000\" d=\"M1109,-901C1109,-901 870,-901 870,-901 864,-901 858,-895 858,-889 858,-889 858,-830 858,-830 858,-824 864,-818 870,-818 870,-818 1109,-818 1109,-818 1115,-818 1121,-824 1121,-830 1121,-830 1121,-889 1121,-889 1121,-895 1115,-901 1109,-901\"/>\n<text text-anchor=\"start\" x=\"866\" y=\"-885.8\" font-family=\"Helvetica,sans-Serif\" font-size=\"14.00\" fill=\"#000000\">Concentration in Classes (0 &#45; 10) ≤ 6.5</text>\n<text text-anchor=\"start\" x=\"938.5\" y=\"-870.8\" font-family=\"Helvetica,sans-Serif\" font-size=\"14.00\" fill=\"#000000\">entropy = 0.485</text>\n<text text-anchor=\"start\" x=\"945.5\" y=\"-855.8\" font-family=\"Helvetica,sans-Serif\" font-size=\"14.00\" fill=\"#000000\">samples = 38</text>\n<text text-anchor=\"start\" x=\"936\" y=\"-840.8\" font-family=\"Helvetica,sans-Serif\" font-size=\"14.00\" fill=\"#000000\">value = [34, 0, 4]</text>\n<text text-anchor=\"start\" x=\"938.5\" y=\"-825.8\" font-family=\"Helvetica,sans-Serif\" font-size=\"14.00\" fill=\"#000000\">class = medium</text>\n</g>\n<!-- 0&#45;&gt;26 -->\n<g id=\"edge26\" class=\"edge\">\n<title>0&#45;&gt;26</title>\n<path fill=\"none\" stroke=\"#000000\" d=\"M912.1204,-936.8796C921.3069,-927.6931 931.1202,-917.8798 940.5664,-908.4336\"/>\n<polygon fill=\"#000000\" stroke=\"#000000\" points=\"943.1057,-910.8441 947.7019,-901.2981 938.1559,-905.8943 943.1057,-910.8441\"/>\n<text text-anchor=\"middle\" x=\"947.7019\" y=\"-922.5981\" font-family=\"Helvetica,sans-Serif\" font-size=\"14.00\" fill=\"#000000\">False</text>\n</g>\n<!-- 2 -->\n<g id=\"node3\" class=\"node\">\n<title>2</title>\n<path fill=\"#39e581\" stroke=\"#000000\" d=\"M626,-774.5C626,-774.5 535,-774.5 535,-774.5 529,-774.5 523,-768.5 523,-762.5 523,-762.5 523,-718.5 523,-718.5 523,-712.5 529,-706.5 535,-706.5 535,-706.5 626,-706.5 626,-706.5 632,-706.5 638,-712.5 638,-718.5 638,-718.5 638,-762.5 638,-762.5 638,-768.5 632,-774.5 626,-774.5\"/>\n<text text-anchor=\"start\" x=\"538\" y=\"-759.3\" font-family=\"Helvetica,sans-Serif\" font-size=\"14.00\" fill=\"#000000\">entropy = 0.0</text>\n<text text-anchor=\"start\" x=\"541\" y=\"-744.3\" font-family=\"Helvetica,sans-Serif\" font-size=\"14.00\" fill=\"#000000\">samples = 2</text>\n<text text-anchor=\"start\" x=\"531\" y=\"-729.3\" font-family=\"Helvetica,sans-Serif\" font-size=\"14.00\" fill=\"#000000\">value = [0, 2, 0]</text>\n<text text-anchor=\"start\" x=\"541.5\" y=\"-714.3\" font-family=\"Helvetica,sans-Serif\" font-size=\"14.00\" fill=\"#000000\">class = high</text>\n</g>\n<!-- 1&#45;&gt;2 -->\n<g id=\"edge2\" class=\"edge\">\n<title>1&#45;&gt;2</title>\n<path fill=\"none\" stroke=\"#000000\" d=\"M691.6925,-817.8796C674.2285,-805.7263 655.188,-792.4759 637.878,-780.4297\"/>\n<polygon fill=\"#000000\" stroke=\"#000000\" points=\"639.7413,-777.4623 629.5339,-774.623 635.7428,-783.208 639.7413,-777.4623\"/>\n</g>\n<!-- 3 -->\n<g id=\"node4\" class=\"node\">\n<title>3</title>\n<path fill=\"#ffffff\" stroke=\"#000000\" d=\"M838.5,-782C838.5,-782 668.5,-782 668.5,-782 662.5,-782 656.5,-776 656.5,-770 656.5,-770 656.5,-711 656.5,-711 656.5,-705 662.5,-699 668.5,-699 668.5,-699 838.5,-699 838.5,-699 844.5,-699 850.5,-705 850.5,-711 850.5,-711 850.5,-770 850.5,-770 850.5,-776 844.5,-782 838.5,-782\"/>\n<text text-anchor=\"start\" x=\"664.5\" y=\"-766.8\" font-family=\"Helvetica,sans-Serif\" font-size=\"14.00\" fill=\"#000000\">Daily Study Hour (0 &#45; ) ≤ 1.5</text>\n<text text-anchor=\"start\" x=\"702.5\" y=\"-751.8\" font-family=\"Helvetica,sans-Serif\" font-size=\"14.00\" fill=\"#000000\">entropy = 1.287</text>\n<text text-anchor=\"start\" x=\"709.5\" y=\"-736.8\" font-family=\"Helvetica,sans-Serif\" font-size=\"14.00\" fill=\"#000000\">samples = 30</text>\n<text text-anchor=\"start\" x=\"696\" y=\"-721.8\" font-family=\"Helvetica,sans-Serif\" font-size=\"14.00\" fill=\"#000000\">value = [14, 2, 14]</text>\n<text text-anchor=\"start\" x=\"702.5\" y=\"-706.8\" font-family=\"Helvetica,sans-Serif\" font-size=\"14.00\" fill=\"#000000\">class = medium</text>\n</g>\n<!-- 1&#45;&gt;3 -->\n<g id=\"edge3\" class=\"edge\">\n<title>1&#45;&gt;3</title>\n<path fill=\"none\" stroke=\"#000000\" d=\"M752.1995,-817.8796C752.3372,-809.6838 752.4834,-800.9891 752.626,-792.5013\"/>\n<polygon fill=\"#000000\" stroke=\"#000000\" points=\"756.1289,-792.3555 752.7975,-782.2981 749.1299,-792.2378 756.1289,-792.3555\"/>\n</g>\n<!-- 4 -->\n<g id=\"node5\" class=\"node\">\n<title>4</title>\n<path fill=\"#ab7bee\" stroke=\"#000000\" d=\"M560,-663C560,-663 329,-663 329,-663 323,-663 317,-657 317,-651 317,-651 317,-592 317,-592 317,-586 323,-580 329,-580 329,-580 560,-580 560,-580 566,-580 572,-586 572,-592 572,-592 572,-651 572,-651 572,-657 566,-663 560,-663\"/>\n<text text-anchor=\"start\" x=\"325\" y=\"-647.8\" font-family=\"Helvetica,sans-Serif\" font-size=\"14.00\" fill=\"#000000\">Average Sleeping Hours (Daily) ≤ 8.5</text>\n<text text-anchor=\"start\" x=\"393.5\" y=\"-632.8\" font-family=\"Helvetica,sans-Serif\" font-size=\"14.00\" fill=\"#000000\">entropy = 0.811</text>\n<text text-anchor=\"start\" x=\"400.5\" y=\"-617.8\" font-family=\"Helvetica,sans-Serif\" font-size=\"14.00\" fill=\"#000000\">samples = 12</text>\n<text text-anchor=\"start\" x=\"395\" y=\"-602.8\" font-family=\"Helvetica,sans-Serif\" font-size=\"14.00\" fill=\"#000000\">value = [3, 0, 9]</text>\n<text text-anchor=\"start\" x=\"405.5\" y=\"-587.8\" font-family=\"Helvetica,sans-Serif\" font-size=\"14.00\" fill=\"#000000\">class = high</text>\n</g>\n<!-- 3&#45;&gt;4 -->\n<g id=\"edge4\" class=\"edge\">\n<title>3&#45;&gt;4</title>\n<path fill=\"none\" stroke=\"#000000\" d=\"M656.4025,-702.8229C653.0616,-701.5322 649.7532,-700.2549 646.5,-699 619.3834,-688.5396 590.2047,-677.3224 562.6879,-666.7615\"/>\n<polygon fill=\"#000000\" stroke=\"#000000\" points=\"563.6205,-663.3706 553.0303,-663.0557 561.1127,-669.906 563.6205,-663.3706\"/>\n</g>\n<!-- 11 -->\n<g id=\"node12\" class=\"node\">\n<title>11</title>\n<path fill=\"#f3c5a4\" stroke=\"#000000\" d=\"M896,-663C896,-663 613,-663 613,-663 607,-663 601,-657 601,-651 601,-651 601,-592 601,-592 601,-586 607,-580 613,-580 613,-580 896,-580 896,-580 902,-580 908,-586 908,-592 908,-592 908,-651 908,-651 908,-657 902,-663 896,-663\"/>\n<text text-anchor=\"start\" x=\"609\" y=\"-647.8\" font-family=\"Helvetica,sans-Serif\" font-size=\"14.00\" fill=\"#000000\">PL/SPL Sleeping Hours (Daily Average) ≤ 7.5</text>\n<text text-anchor=\"start\" x=\"712\" y=\"-632.8\" font-family=\"Helvetica,sans-Serif\" font-size=\"14.00\" fill=\"#000000\">entropy = 1.3</text>\n<text text-anchor=\"start\" x=\"710.5\" y=\"-617.8\" font-family=\"Helvetica,sans-Serif\" font-size=\"14.00\" fill=\"#000000\">samples = 18</text>\n<text text-anchor=\"start\" x=\"701\" y=\"-602.8\" font-family=\"Helvetica,sans-Serif\" font-size=\"14.00\" fill=\"#000000\">value = [11, 2, 5]</text>\n<text text-anchor=\"start\" x=\"703.5\" y=\"-587.8\" font-family=\"Helvetica,sans-Serif\" font-size=\"14.00\" fill=\"#000000\">class = medium</text>\n</g>\n<!-- 3&#45;&gt;11 -->\n<g id=\"edge11\" class=\"edge\">\n<title>3&#45;&gt;11</title>\n<path fill=\"none\" stroke=\"#000000\" d=\"M753.8498,-698.8796C753.9186,-690.6838 753.9917,-681.9891 754.063,-673.5013\"/>\n<polygon fill=\"#000000\" stroke=\"#000000\" points=\"757.5645,-673.3272 754.1488,-663.2981 750.5648,-673.2683 757.5645,-673.3272\"/>\n</g>\n<!-- 5 -->\n<g id=\"node6\" class=\"node\">\n<title>5</title>\n<path fill=\"#8f4fe8\" stroke=\"#000000\" d=\"M350,-544C350,-544 111,-544 111,-544 105,-544 99,-538 99,-532 99,-532 99,-473 99,-473 99,-467 105,-461 111,-461 111,-461 350,-461 350,-461 356,-461 362,-467 362,-473 362,-473 362,-532 362,-532 362,-538 356,-544 350,-544\"/>\n<text text-anchor=\"start\" x=\"107\" y=\"-528.8\" font-family=\"Helvetica,sans-Serif\" font-size=\"14.00\" fill=\"#000000\">PL/SPL Study Hours (Daily) (0 &#45; ) ≤ 9.5</text>\n<text text-anchor=\"start\" x=\"179.5\" y=\"-513.8\" font-family=\"Helvetica,sans-Serif\" font-size=\"14.00\" fill=\"#000000\">entropy = 0.469</text>\n<text text-anchor=\"start\" x=\"186.5\" y=\"-498.8\" font-family=\"Helvetica,sans-Serif\" font-size=\"14.00\" fill=\"#000000\">samples = 10</text>\n<text text-anchor=\"start\" x=\"181\" y=\"-483.8\" font-family=\"Helvetica,sans-Serif\" font-size=\"14.00\" fill=\"#000000\">value = [1, 0, 9]</text>\n<text text-anchor=\"start\" x=\"191.5\" y=\"-468.8\" font-family=\"Helvetica,sans-Serif\" font-size=\"14.00\" fill=\"#000000\">class = high</text>\n</g>\n<!-- 4&#45;&gt;5 -->\n<g id=\"edge5\" class=\"edge\">\n<title>4&#45;&gt;5</title>\n<path fill=\"none\" stroke=\"#000000\" d=\"M369.6532,-579.8796C351.7337,-569.915 332.488,-559.2129 314.197,-549.0418\"/>\n<polygon fill=\"#000000\" stroke=\"#000000\" points=\"315.7452,-545.898 305.3046,-544.0969 312.3432,-552.0158 315.7452,-545.898\"/>\n</g>\n<!-- 10 -->\n<g id=\"node11\" class=\"node\">\n<title>10</title>\n<path fill=\"#e58139\" stroke=\"#000000\" d=\"M491.5,-536.5C491.5,-536.5 397.5,-536.5 397.5,-536.5 391.5,-536.5 385.5,-530.5 385.5,-524.5 385.5,-524.5 385.5,-480.5 385.5,-480.5 385.5,-474.5 391.5,-468.5 397.5,-468.5 397.5,-468.5 491.5,-468.5 491.5,-468.5 497.5,-468.5 503.5,-474.5 503.5,-480.5 503.5,-480.5 503.5,-524.5 503.5,-524.5 503.5,-530.5 497.5,-536.5 491.5,-536.5\"/>\n<text text-anchor=\"start\" x=\"402\" y=\"-521.3\" font-family=\"Helvetica,sans-Serif\" font-size=\"14.00\" fill=\"#000000\">entropy = 0.0</text>\n<text text-anchor=\"start\" x=\"405\" y=\"-506.3\" font-family=\"Helvetica,sans-Serif\" font-size=\"14.00\" fill=\"#000000\">samples = 2</text>\n<text text-anchor=\"start\" x=\"395\" y=\"-491.3\" font-family=\"Helvetica,sans-Serif\" font-size=\"14.00\" fill=\"#000000\">value = [2, 0, 0]</text>\n<text text-anchor=\"start\" x=\"393.5\" y=\"-476.3\" font-family=\"Helvetica,sans-Serif\" font-size=\"14.00\" fill=\"#000000\">class = medium</text>\n</g>\n<!-- 4&#45;&gt;10 -->\n<g id=\"edge10\" class=\"edge\">\n<title>4&#45;&gt;10</title>\n<path fill=\"none\" stroke=\"#000000\" d=\"M444.5,-579.8796C444.5,-569.2134 444.5,-557.7021 444.5,-546.9015\"/>\n<polygon fill=\"#000000\" stroke=\"#000000\" points=\"448.0001,-546.8149 444.5,-536.8149 441.0001,-546.815 448.0001,-546.8149\"/>\n</g>\n<!-- 6 -->\n<g id=\"node7\" class=\"node\">\n<title>6</title>\n<path fill=\"#8139e5\" stroke=\"#000000\" d=\"M103,-417.5C103,-417.5 12,-417.5 12,-417.5 6,-417.5 0,-411.5 0,-405.5 0,-405.5 0,-361.5 0,-361.5 0,-355.5 6,-349.5 12,-349.5 12,-349.5 103,-349.5 103,-349.5 109,-349.5 115,-355.5 115,-361.5 115,-361.5 115,-405.5 115,-405.5 115,-411.5 109,-417.5 103,-417.5\"/>\n<text text-anchor=\"start\" x=\"15\" y=\"-402.3\" font-family=\"Helvetica,sans-Serif\" font-size=\"14.00\" fill=\"#000000\">entropy = 0.0</text>\n<text text-anchor=\"start\" x=\"18\" y=\"-387.3\" font-family=\"Helvetica,sans-Serif\" font-size=\"14.00\" fill=\"#000000\">samples = 8</text>\n<text text-anchor=\"start\" x=\"8\" y=\"-372.3\" font-family=\"Helvetica,sans-Serif\" font-size=\"14.00\" fill=\"#000000\">value = [0, 0, 8]</text>\n<text text-anchor=\"start\" x=\"18.5\" y=\"-357.3\" font-family=\"Helvetica,sans-Serif\" font-size=\"14.00\" fill=\"#000000\">class = high</text>\n</g>\n<!-- 5&#45;&gt;6 -->\n<g id=\"edge6\" class=\"edge\">\n<title>5&#45;&gt;6</title>\n<path fill=\"none\" stroke=\"#000000\" d=\"M169.993,-460.8796C152.3248,-448.7263 133.0615,-435.4759 115.5491,-423.4297\"/>\n<polygon fill=\"#000000\" stroke=\"#000000\" points=\"117.3301,-420.4067 107.1074,-417.623 113.3629,-426.1741 117.3301,-420.4067\"/>\n</g>\n<!-- 7 -->\n<g id=\"node8\" class=\"node\">\n<title>7</title>\n<path fill=\"#ffffff\" stroke=\"#000000\" d=\"M315.5,-425C315.5,-425 145.5,-425 145.5,-425 139.5,-425 133.5,-419 133.5,-413 133.5,-413 133.5,-354 133.5,-354 133.5,-348 139.5,-342 145.5,-342 145.5,-342 315.5,-342 315.5,-342 321.5,-342 327.5,-348 327.5,-354 327.5,-354 327.5,-413 327.5,-413 327.5,-419 321.5,-425 315.5,-425\"/>\n<text text-anchor=\"start\" x=\"141.5\" y=\"-409.8\" font-family=\"Helvetica,sans-Serif\" font-size=\"14.00\" fill=\"#000000\">Daily Study Hour (0 &#45; ) ≤ 0.5</text>\n<text text-anchor=\"start\" x=\"188\" y=\"-394.8\" font-family=\"Helvetica,sans-Serif\" font-size=\"14.00\" fill=\"#000000\">entropy = 1.0</text>\n<text text-anchor=\"start\" x=\"191\" y=\"-379.8\" font-family=\"Helvetica,sans-Serif\" font-size=\"14.00\" fill=\"#000000\">samples = 2</text>\n<text text-anchor=\"start\" x=\"181\" y=\"-364.8\" font-family=\"Helvetica,sans-Serif\" font-size=\"14.00\" fill=\"#000000\">value = [1, 0, 1]</text>\n<text text-anchor=\"start\" x=\"179.5\" y=\"-349.8\" font-family=\"Helvetica,sans-Serif\" font-size=\"14.00\" fill=\"#000000\">class = medium</text>\n</g>\n<!-- 5&#45;&gt;7 -->\n<g id=\"edge7\" class=\"edge\">\n<title>5&#45;&gt;7</title>\n<path fill=\"none\" stroke=\"#000000\" d=\"M230.5,-460.8796C230.5,-452.6838 230.5,-443.9891 230.5,-435.5013\"/>\n<polygon fill=\"#000000\" stroke=\"#000000\" points=\"234.0001,-435.298 230.5,-425.2981 227.0001,-435.2981 234.0001,-435.298\"/>\n</g>\n<!-- 8 -->\n<g id=\"node9\" class=\"node\">\n<title>8</title>\n<path fill=\"#8139e5\" stroke=\"#000000\" d=\"M141,-298.5C141,-298.5 50,-298.5 50,-298.5 44,-298.5 38,-292.5 38,-286.5 38,-286.5 38,-242.5 38,-242.5 38,-236.5 44,-230.5 50,-230.5 50,-230.5 141,-230.5 141,-230.5 147,-230.5 153,-236.5 153,-242.5 153,-242.5 153,-286.5 153,-286.5 153,-292.5 147,-298.5 141,-298.5\"/>\n<text text-anchor=\"start\" x=\"53\" y=\"-283.3\" font-family=\"Helvetica,sans-Serif\" font-size=\"14.00\" fill=\"#000000\">entropy = 0.0</text>\n<text text-anchor=\"start\" x=\"56\" y=\"-268.3\" font-family=\"Helvetica,sans-Serif\" font-size=\"14.00\" fill=\"#000000\">samples = 1</text>\n<text text-anchor=\"start\" x=\"46\" y=\"-253.3\" font-family=\"Helvetica,sans-Serif\" font-size=\"14.00\" fill=\"#000000\">value = [0, 0, 1]</text>\n<text text-anchor=\"start\" x=\"56.5\" y=\"-238.3\" font-family=\"Helvetica,sans-Serif\" font-size=\"14.00\" fill=\"#000000\">class = high</text>\n</g>\n<!-- 7&#45;&gt;8 -->\n<g id=\"edge8\" class=\"edge\">\n<title>7&#45;&gt;8</title>\n<path fill=\"none\" stroke=\"#000000\" d=\"M183.2836,-341.8796C169.9358,-330.1138 155.4215,-317.3197 142.1096,-305.5855\"/>\n<polygon fill=\"#000000\" stroke=\"#000000\" points=\"144.2448,-302.8019 134.4287,-298.8149 139.616,-308.0531 144.2448,-302.8019\"/>\n</g>\n<!-- 9 -->\n<g id=\"node10\" class=\"node\">\n<title>9</title>\n<path fill=\"#e58139\" stroke=\"#000000\" d=\"M277.5,-298.5C277.5,-298.5 183.5,-298.5 183.5,-298.5 177.5,-298.5 171.5,-292.5 171.5,-286.5 171.5,-286.5 171.5,-242.5 171.5,-242.5 171.5,-236.5 177.5,-230.5 183.5,-230.5 183.5,-230.5 277.5,-230.5 277.5,-230.5 283.5,-230.5 289.5,-236.5 289.5,-242.5 289.5,-242.5 289.5,-286.5 289.5,-286.5 289.5,-292.5 283.5,-298.5 277.5,-298.5\"/>\n<text text-anchor=\"start\" x=\"188\" y=\"-283.3\" font-family=\"Helvetica,sans-Serif\" font-size=\"14.00\" fill=\"#000000\">entropy = 0.0</text>\n<text text-anchor=\"start\" x=\"191\" y=\"-268.3\" font-family=\"Helvetica,sans-Serif\" font-size=\"14.00\" fill=\"#000000\">samples = 1</text>\n<text text-anchor=\"start\" x=\"181\" y=\"-253.3\" font-family=\"Helvetica,sans-Serif\" font-size=\"14.00\" fill=\"#000000\">value = [1, 0, 0]</text>\n<text text-anchor=\"start\" x=\"179.5\" y=\"-238.3\" font-family=\"Helvetica,sans-Serif\" font-size=\"14.00\" fill=\"#000000\">class = medium</text>\n</g>\n<!-- 7&#45;&gt;9 -->\n<g id=\"edge9\" class=\"edge\">\n<title>7&#45;&gt;9</title>\n<path fill=\"none\" stroke=\"#000000\" d=\"M230.5,-341.8796C230.5,-331.2134 230.5,-319.7021 230.5,-308.9015\"/>\n<polygon fill=\"#000000\" stroke=\"#000000\" points=\"234.0001,-308.8149 230.5,-298.8149 227.0001,-308.815 234.0001,-308.8149\"/>\n</g>\n<!-- 12 -->\n<g id=\"node13\" class=\"node\">\n<title>12</title>\n<path fill=\"#ffffff\" stroke=\"#000000\" d=\"M830.5,-544C830.5,-544 678.5,-544 678.5,-544 672.5,-544 666.5,-538 666.5,-532 666.5,-532 666.5,-473 666.5,-473 666.5,-467 672.5,-461 678.5,-461 678.5,-461 830.5,-461 830.5,-461 836.5,-461 842.5,-467 842.5,-473 842.5,-473 842.5,-532 842.5,-532 842.5,-538 836.5,-544 830.5,-544\"/>\n<text text-anchor=\"start\" x=\"674.5\" y=\"-528.8\" font-family=\"Helvetica,sans-Serif\" font-size=\"14.00\" fill=\"#000000\">Confidence (0 &#45; 10) ≤ 7.5</text>\n<text text-anchor=\"start\" x=\"703.5\" y=\"-513.8\" font-family=\"Helvetica,sans-Serif\" font-size=\"14.00\" fill=\"#000000\">entropy = 1.349</text>\n<text text-anchor=\"start\" x=\"710.5\" y=\"-498.8\" font-family=\"Helvetica,sans-Serif\" font-size=\"14.00\" fill=\"#000000\">samples = 11</text>\n<text text-anchor=\"start\" x=\"705\" y=\"-483.8\" font-family=\"Helvetica,sans-Serif\" font-size=\"14.00\" fill=\"#000000\">value = [5, 1, 5]</text>\n<text text-anchor=\"start\" x=\"703.5\" y=\"-468.8\" font-family=\"Helvetica,sans-Serif\" font-size=\"14.00\" fill=\"#000000\">class = medium</text>\n</g>\n<!-- 11&#45;&gt;12 -->\n<g id=\"edge12\" class=\"edge\">\n<title>11&#45;&gt;12</title>\n<path fill=\"none\" stroke=\"#000000\" d=\"M754.5,-579.8796C754.5,-571.6838 754.5,-562.9891 754.5,-554.5013\"/>\n<polygon fill=\"#000000\" stroke=\"#000000\" points=\"758.0001,-554.298 754.5,-544.2981 751.0001,-554.2981 758.0001,-554.298\"/>\n</g>\n<!-- 23 -->\n<g id=\"node24\" class=\"node\">\n<title>23</title>\n<path fill=\"#e9965a\" stroke=\"#000000\" d=\"M1085,-544C1085,-544 878,-544 878,-544 872,-544 866,-538 866,-532 866,-532 866,-473 866,-473 866,-467 872,-461 878,-461 878,-461 1085,-461 1085,-461 1091,-461 1097,-467 1097,-473 1097,-473 1097,-532 1097,-532 1097,-538 1091,-544 1085,-544\"/>\n<text text-anchor=\"start\" x=\"874\" y=\"-528.8\" font-family=\"Helvetica,sans-Serif\" font-size=\"14.00\" fill=\"#000000\">Average CT Marks (0 &#45; 20) ≤ 10.0</text>\n<text text-anchor=\"start\" x=\"930.5\" y=\"-513.8\" font-family=\"Helvetica,sans-Serif\" font-size=\"14.00\" fill=\"#000000\">entropy = 0.592</text>\n<text text-anchor=\"start\" x=\"942\" y=\"-498.8\" font-family=\"Helvetica,sans-Serif\" font-size=\"14.00\" fill=\"#000000\">samples = 7</text>\n<text text-anchor=\"start\" x=\"932\" y=\"-483.8\" font-family=\"Helvetica,sans-Serif\" font-size=\"14.00\" fill=\"#000000\">value = [6, 1, 0]</text>\n<text text-anchor=\"start\" x=\"930.5\" y=\"-468.8\" font-family=\"Helvetica,sans-Serif\" font-size=\"14.00\" fill=\"#000000\">class = medium</text>\n</g>\n<!-- 11&#45;&gt;23 -->\n<g id=\"edge23\" class=\"edge\">\n<title>11&#45;&gt;23</title>\n<path fill=\"none\" stroke=\"#000000\" d=\"M833.8936,-579.8796C853.0744,-569.8244 873.6878,-559.0183 893.2475,-548.7645\"/>\n<polygon fill=\"#000000\" stroke=\"#000000\" points=\"894.9195,-551.8398 902.1512,-544.0969 891.6694,-545.6401 894.9195,-551.8398\"/>\n</g>\n<!-- 13 -->\n<g id=\"node14\" class=\"node\">\n<title>13</title>\n<path fill=\"#f5cdb0\" stroke=\"#000000\" d=\"M615,-425C615,-425 358,-425 358,-425 352,-425 346,-419 346,-413 346,-413 346,-354 346,-354 346,-348 352,-342 358,-342 358,-342 615,-342 615,-342 621,-342 627,-348 627,-354 627,-354 627,-413 627,-413 627,-419 621,-425 615,-425\"/>\n<text text-anchor=\"start\" x=\"354\" y=\"-409.8\" font-family=\"Helvetica,sans-Serif\" font-size=\"14.00\" fill=\"#000000\">Social Media Hours (Daily Average) ≤ 2.5</text>\n<text text-anchor=\"start\" x=\"435.5\" y=\"-394.8\" font-family=\"Helvetica,sans-Serif\" font-size=\"14.00\" fill=\"#000000\">entropy = 0.954</text>\n<text text-anchor=\"start\" x=\"447\" y=\"-379.8\" font-family=\"Helvetica,sans-Serif\" font-size=\"14.00\" fill=\"#000000\">samples = 8</text>\n<text text-anchor=\"start\" x=\"437\" y=\"-364.8\" font-family=\"Helvetica,sans-Serif\" font-size=\"14.00\" fill=\"#000000\">value = [5, 0, 3]</text>\n<text text-anchor=\"start\" x=\"435.5\" y=\"-349.8\" font-family=\"Helvetica,sans-Serif\" font-size=\"14.00\" fill=\"#000000\">class = medium</text>\n</g>\n<!-- 12&#45;&gt;13 -->\n<g id=\"edge13\" class=\"edge\">\n<title>12&#45;&gt;13</title>\n<path fill=\"none\" stroke=\"#000000\" d=\"M666.3756,-463.3701C641.7821,-452.4499 614.844,-440.4886 589.4756,-429.2243\"/>\n<polygon fill=\"#000000\" stroke=\"#000000\" points=\"590.7676,-425.9684 580.2077,-425.109 587.9268,-432.3661 590.7676,-425.9684\"/>\n</g>\n<!-- 20 -->\n<g id=\"node21\" class=\"node\">\n<title>20</title>\n<path fill=\"#c09cf2\" stroke=\"#000000\" d=\"M893.5,-425C893.5,-425 657.5,-425 657.5,-425 651.5,-425 645.5,-419 645.5,-413 645.5,-413 645.5,-354 645.5,-354 645.5,-348 651.5,-342 657.5,-342 657.5,-342 893.5,-342 893.5,-342 899.5,-342 905.5,-348 905.5,-354 905.5,-354 905.5,-413 905.5,-413 905.5,-419 899.5,-425 893.5,-425\"/>\n<text text-anchor=\"start\" x=\"653.5\" y=\"-409.8\" font-family=\"Helvetica,sans-Serif\" font-size=\"14.00\" fill=\"#000000\">Class Attendance (percentage) ≤ 95.0</text>\n<text text-anchor=\"start\" x=\"724.5\" y=\"-394.8\" font-family=\"Helvetica,sans-Serif\" font-size=\"14.00\" fill=\"#000000\">entropy = 0.918</text>\n<text text-anchor=\"start\" x=\"736\" y=\"-379.8\" font-family=\"Helvetica,sans-Serif\" font-size=\"14.00\" fill=\"#000000\">samples = 3</text>\n<text text-anchor=\"start\" x=\"726\" y=\"-364.8\" font-family=\"Helvetica,sans-Serif\" font-size=\"14.00\" fill=\"#000000\">value = [0, 1, 2]</text>\n<text text-anchor=\"start\" x=\"736.5\" y=\"-349.8\" font-family=\"Helvetica,sans-Serif\" font-size=\"14.00\" fill=\"#000000\">class = high</text>\n</g>\n<!-- 12&#45;&gt;20 -->\n<g id=\"edge20\" class=\"edge\">\n<title>12&#45;&gt;20</title>\n<path fill=\"none\" stroke=\"#000000\" d=\"M761.8448,-460.8796C763.307,-452.5938 764.8592,-443.798 766.3727,-435.2216\"/>\n<polygon fill=\"#000000\" stroke=\"#000000\" points=\"769.8327,-435.7542 768.1239,-425.2981 762.9392,-434.5376 769.8327,-435.7542\"/>\n</g>\n<!-- 14 -->\n<g id=\"node15\" class=\"node\">\n<title>14</title>\n<path fill=\"#d5bdf6\" stroke=\"#000000\" d=\"M551,-306C551,-306 320,-306 320,-306 314,-306 308,-300 308,-294 308,-294 308,-235 308,-235 308,-229 314,-223 320,-223 320,-223 551,-223 551,-223 557,-223 563,-229 563,-235 563,-235 563,-294 563,-294 563,-300 557,-306 551,-306\"/>\n<text text-anchor=\"start\" x=\"316\" y=\"-290.8\" font-family=\"Helvetica,sans-Serif\" font-size=\"14.00\" fill=\"#000000\">Average Sleeping Hours (Daily) ≤ 7.5</text>\n<text text-anchor=\"start\" x=\"384.5\" y=\"-275.8\" font-family=\"Helvetica,sans-Serif\" font-size=\"14.00\" fill=\"#000000\">entropy = 0.971</text>\n<text text-anchor=\"start\" x=\"396\" y=\"-260.8\" font-family=\"Helvetica,sans-Serif\" font-size=\"14.00\" fill=\"#000000\">samples = 5</text>\n<text text-anchor=\"start\" x=\"386\" y=\"-245.8\" font-family=\"Helvetica,sans-Serif\" font-size=\"14.00\" fill=\"#000000\">value = [2, 0, 3]</text>\n<text text-anchor=\"start\" x=\"396.5\" y=\"-230.8\" font-family=\"Helvetica,sans-Serif\" font-size=\"14.00\" fill=\"#000000\">class = high</text>\n</g>\n<!-- 13&#45;&gt;14 -->\n<g id=\"edge14\" class=\"edge\">\n<title>13&#45;&gt;14</title>\n<path fill=\"none\" stroke=\"#000000\" d=\"M468.6627,-341.8796C465.0344,-333.4136 461.178,-324.4153 457.4268,-315.6626\"/>\n<polygon fill=\"#000000\" stroke=\"#000000\" points=\"460.5697,-314.1108 453.4135,-306.2981 454.1357,-316.8683 460.5697,-314.1108\"/>\n</g>\n<!-- 19 -->\n<g id=\"node20\" class=\"node\">\n<title>19</title>\n<path fill=\"#e58139\" stroke=\"#000000\" d=\"M687.5,-298.5C687.5,-298.5 593.5,-298.5 593.5,-298.5 587.5,-298.5 581.5,-292.5 581.5,-286.5 581.5,-286.5 581.5,-242.5 581.5,-242.5 581.5,-236.5 587.5,-230.5 593.5,-230.5 593.5,-230.5 687.5,-230.5 687.5,-230.5 693.5,-230.5 699.5,-236.5 699.5,-242.5 699.5,-242.5 699.5,-286.5 699.5,-286.5 699.5,-292.5 693.5,-298.5 687.5,-298.5\"/>\n<text text-anchor=\"start\" x=\"598\" y=\"-283.3\" font-family=\"Helvetica,sans-Serif\" font-size=\"14.00\" fill=\"#000000\">entropy = 0.0</text>\n<text text-anchor=\"start\" x=\"601\" y=\"-268.3\" font-family=\"Helvetica,sans-Serif\" font-size=\"14.00\" fill=\"#000000\">samples = 3</text>\n<text text-anchor=\"start\" x=\"591\" y=\"-253.3\" font-family=\"Helvetica,sans-Serif\" font-size=\"14.00\" fill=\"#000000\">value = [3, 0, 0]</text>\n<text text-anchor=\"start\" x=\"589.5\" y=\"-238.3\" font-family=\"Helvetica,sans-Serif\" font-size=\"14.00\" fill=\"#000000\">class = medium</text>\n</g>\n<!-- 13&#45;&gt;19 -->\n<g id=\"edge19\" class=\"edge\">\n<title>13&#45;&gt;19</title>\n<path fill=\"none\" stroke=\"#000000\" d=\"M540.3617,-341.8796C555.7304,-330.0038 572.4547,-317.0804 587.7559,-305.2568\"/>\n<polygon fill=\"#000000\" stroke=\"#000000\" points=\"590.3196,-307.699 596.0924,-298.8149 586.0395,-302.1599 590.3196,-307.699\"/>\n</g>\n<!-- 15 -->\n<g id=\"node16\" class=\"node\">\n<title>15</title>\n<path fill=\"#f2c09c\" stroke=\"#000000\" d=\"M450.5,-187C450.5,-187 214.5,-187 214.5,-187 208.5,-187 202.5,-181 202.5,-175 202.5,-175 202.5,-116 202.5,-116 202.5,-110 208.5,-104 214.5,-104 214.5,-104 450.5,-104 450.5,-104 456.5,-104 462.5,-110 462.5,-116 462.5,-116 462.5,-175 462.5,-175 462.5,-181 456.5,-187 450.5,-187\"/>\n<text text-anchor=\"start\" x=\"210.5\" y=\"-171.8\" font-family=\"Helvetica,sans-Serif\" font-size=\"14.00\" fill=\"#000000\">Class Attendance (percentage) ≤ 99.0</text>\n<text text-anchor=\"start\" x=\"281.5\" y=\"-156.8\" font-family=\"Helvetica,sans-Serif\" font-size=\"14.00\" fill=\"#000000\">entropy = 0.918</text>\n<text text-anchor=\"start\" x=\"293\" y=\"-141.8\" font-family=\"Helvetica,sans-Serif\" font-size=\"14.00\" fill=\"#000000\">samples = 3</text>\n<text text-anchor=\"start\" x=\"283\" y=\"-126.8\" font-family=\"Helvetica,sans-Serif\" font-size=\"14.00\" fill=\"#000000\">value = [2, 0, 1]</text>\n<text text-anchor=\"start\" x=\"281.5\" y=\"-111.8\" font-family=\"Helvetica,sans-Serif\" font-size=\"14.00\" fill=\"#000000\">class = medium</text>\n</g>\n<!-- 14&#45;&gt;15 -->\n<g id=\"edge15\" class=\"edge\">\n<title>14&#45;&gt;15</title>\n<path fill=\"none\" stroke=\"#000000\" d=\"M399.4756,-222.8796C391.6802,-213.8733 383.3633,-204.2644 375.3356,-194.9897\"/>\n<polygon fill=\"#000000\" stroke=\"#000000\" points=\"377.8691,-192.5686 368.6782,-187.2981 372.5763,-197.1498 377.8691,-192.5686\"/>\n</g>\n<!-- 18 -->\n<g id=\"node19\" class=\"node\">\n<title>18</title>\n<path fill=\"#8139e5\" stroke=\"#000000\" d=\"M584,-179.5C584,-179.5 493,-179.5 493,-179.5 487,-179.5 481,-173.5 481,-167.5 481,-167.5 481,-123.5 481,-123.5 481,-117.5 487,-111.5 493,-111.5 493,-111.5 584,-111.5 584,-111.5 590,-111.5 596,-117.5 596,-123.5 596,-123.5 596,-167.5 596,-167.5 596,-173.5 590,-179.5 584,-179.5\"/>\n<text text-anchor=\"start\" x=\"496\" y=\"-164.3\" font-family=\"Helvetica,sans-Serif\" font-size=\"14.00\" fill=\"#000000\">entropy = 0.0</text>\n<text text-anchor=\"start\" x=\"499\" y=\"-149.3\" font-family=\"Helvetica,sans-Serif\" font-size=\"14.00\" fill=\"#000000\">samples = 2</text>\n<text text-anchor=\"start\" x=\"489\" y=\"-134.3\" font-family=\"Helvetica,sans-Serif\" font-size=\"14.00\" fill=\"#000000\">value = [0, 0, 2]</text>\n<text text-anchor=\"start\" x=\"499.5\" y=\"-119.3\" font-family=\"Helvetica,sans-Serif\" font-size=\"14.00\" fill=\"#000000\">class = high</text>\n</g>\n<!-- 14&#45;&gt;18 -->\n<g id=\"edge18\" class=\"edge\">\n<title>14&#45;&gt;18</title>\n<path fill=\"none\" stroke=\"#000000\" d=\"M471.5244,-222.8796C481.4227,-211.4436 492.1619,-199.0363 502.0822,-187.575\"/>\n<polygon fill=\"#000000\" stroke=\"#000000\" points=\"504.9007,-189.6666 508.7988,-179.8149 499.6079,-185.0855 504.9007,-189.6666\"/>\n</g>\n<!-- 16 -->\n<g id=\"node17\" class=\"node\">\n<title>16</title>\n<path fill=\"#e58139\" stroke=\"#000000\" d=\"M312.5,-68C312.5,-68 218.5,-68 218.5,-68 212.5,-68 206.5,-62 206.5,-56 206.5,-56 206.5,-12 206.5,-12 206.5,-6 212.5,0 218.5,0 218.5,0 312.5,0 312.5,0 318.5,0 324.5,-6 324.5,-12 324.5,-12 324.5,-56 324.5,-56 324.5,-62 318.5,-68 312.5,-68\"/>\n<text text-anchor=\"start\" x=\"223\" y=\"-52.8\" font-family=\"Helvetica,sans-Serif\" font-size=\"14.00\" fill=\"#000000\">entropy = 0.0</text>\n<text text-anchor=\"start\" x=\"226\" y=\"-37.8\" font-family=\"Helvetica,sans-Serif\" font-size=\"14.00\" fill=\"#000000\">samples = 2</text>\n<text text-anchor=\"start\" x=\"216\" y=\"-22.8\" font-family=\"Helvetica,sans-Serif\" font-size=\"14.00\" fill=\"#000000\">value = [2, 0, 0]</text>\n<text text-anchor=\"start\" x=\"214.5\" y=\"-7.8\" font-family=\"Helvetica,sans-Serif\" font-size=\"14.00\" fill=\"#000000\">class = medium</text>\n</g>\n<!-- 15&#45;&gt;16 -->\n<g id=\"edge16\" class=\"edge\">\n<title>15&#45;&gt;16</title>\n<path fill=\"none\" stroke=\"#000000\" d=\"M307.5517,-103.9815C302.2499,-95.1585 296.6419,-85.8258 291.3089,-76.9506\"/>\n<polygon fill=\"#000000\" stroke=\"#000000\" points=\"294.2396,-75.0325 286.0889,-68.2637 288.2395,-78.638 294.2396,-75.0325\"/>\n</g>\n<!-- 17 -->\n<g id=\"node18\" class=\"node\">\n<title>17</title>\n<path fill=\"#8139e5\" stroke=\"#000000\" d=\"M446,-68C446,-68 355,-68 355,-68 349,-68 343,-62 343,-56 343,-56 343,-12 343,-12 343,-6 349,0 355,0 355,0 446,0 446,0 452,0 458,-6 458,-12 458,-12 458,-56 458,-56 458,-62 452,-68 446,-68\"/>\n<text text-anchor=\"start\" x=\"358\" y=\"-52.8\" font-family=\"Helvetica,sans-Serif\" font-size=\"14.00\" fill=\"#000000\">entropy = 0.0</text>\n<text text-anchor=\"start\" x=\"361\" y=\"-37.8\" font-family=\"Helvetica,sans-Serif\" font-size=\"14.00\" fill=\"#000000\">samples = 1</text>\n<text text-anchor=\"start\" x=\"351\" y=\"-22.8\" font-family=\"Helvetica,sans-Serif\" font-size=\"14.00\" fill=\"#000000\">value = [0, 0, 1]</text>\n<text text-anchor=\"start\" x=\"361.5\" y=\"-7.8\" font-family=\"Helvetica,sans-Serif\" font-size=\"14.00\" fill=\"#000000\">class = high</text>\n</g>\n<!-- 15&#45;&gt;17 -->\n<g id=\"edge17\" class=\"edge\">\n<title>15&#45;&gt;17</title>\n<path fill=\"none\" stroke=\"#000000\" d=\"M357.8207,-103.9815C363.2016,-95.1585 368.8932,-85.8258 374.3059,-76.9506\"/>\n<polygon fill=\"#000000\" stroke=\"#000000\" points=\"377.3851,-78.6236 379.6038,-68.2637 371.4088,-74.9789 377.3851,-78.6236\"/>\n</g>\n<!-- 21 -->\n<g id=\"node22\" class=\"node\">\n<title>21</title>\n<path fill=\"#8139e5\" stroke=\"#000000\" d=\"M821,-298.5C821,-298.5 730,-298.5 730,-298.5 724,-298.5 718,-292.5 718,-286.5 718,-286.5 718,-242.5 718,-242.5 718,-236.5 724,-230.5 730,-230.5 730,-230.5 821,-230.5 821,-230.5 827,-230.5 833,-236.5 833,-242.5 833,-242.5 833,-286.5 833,-286.5 833,-292.5 827,-298.5 821,-298.5\"/>\n<text text-anchor=\"start\" x=\"733\" y=\"-283.3\" font-family=\"Helvetica,sans-Serif\" font-size=\"14.00\" fill=\"#000000\">entropy = 0.0</text>\n<text text-anchor=\"start\" x=\"736\" y=\"-268.3\" font-family=\"Helvetica,sans-Serif\" font-size=\"14.00\" fill=\"#000000\">samples = 2</text>\n<text text-anchor=\"start\" x=\"726\" y=\"-253.3\" font-family=\"Helvetica,sans-Serif\" font-size=\"14.00\" fill=\"#000000\">value = [0, 0, 2]</text>\n<text text-anchor=\"start\" x=\"736.5\" y=\"-238.3\" font-family=\"Helvetica,sans-Serif\" font-size=\"14.00\" fill=\"#000000\">class = high</text>\n</g>\n<!-- 20&#45;&gt;21 -->\n<g id=\"edge21\" class=\"edge\">\n<title>20&#45;&gt;21</title>\n<path fill=\"none\" stroke=\"#000000\" d=\"M775.5,-341.8796C775.5,-331.2134 775.5,-319.7021 775.5,-308.9015\"/>\n<polygon fill=\"#000000\" stroke=\"#000000\" points=\"779.0001,-308.8149 775.5,-298.8149 772.0001,-308.815 779.0001,-308.8149\"/>\n</g>\n<!-- 22 -->\n<g id=\"node23\" class=\"node\">\n<title>22</title>\n<path fill=\"#39e581\" stroke=\"#000000\" d=\"M954,-298.5C954,-298.5 863,-298.5 863,-298.5 857,-298.5 851,-292.5 851,-286.5 851,-286.5 851,-242.5 851,-242.5 851,-236.5 857,-230.5 863,-230.5 863,-230.5 954,-230.5 954,-230.5 960,-230.5 966,-236.5 966,-242.5 966,-242.5 966,-286.5 966,-286.5 966,-292.5 960,-298.5 954,-298.5\"/>\n<text text-anchor=\"start\" x=\"866\" y=\"-283.3\" font-family=\"Helvetica,sans-Serif\" font-size=\"14.00\" fill=\"#000000\">entropy = 0.0</text>\n<text text-anchor=\"start\" x=\"869\" y=\"-268.3\" font-family=\"Helvetica,sans-Serif\" font-size=\"14.00\" fill=\"#000000\">samples = 1</text>\n<text text-anchor=\"start\" x=\"859\" y=\"-253.3\" font-family=\"Helvetica,sans-Serif\" font-size=\"14.00\" fill=\"#000000\">value = [0, 1, 0]</text>\n<text text-anchor=\"start\" x=\"869.5\" y=\"-238.3\" font-family=\"Helvetica,sans-Serif\" font-size=\"14.00\" fill=\"#000000\">class = high</text>\n</g>\n<!-- 20&#45;&gt;22 -->\n<g id=\"edge22\" class=\"edge\">\n<title>20&#45;&gt;22</title>\n<path fill=\"none\" stroke=\"#000000\" d=\"M822.0169,-341.8796C835.167,-330.1138 849.4663,-317.3197 862.5809,-305.5855\"/>\n<polygon fill=\"#000000\" stroke=\"#000000\" points=\"865.0294,-308.0913 870.148,-298.8149 860.3618,-302.8746 865.0294,-308.0913\"/>\n</g>\n<!-- 24 -->\n<g id=\"node25\" class=\"node\">\n<title>24</title>\n<path fill=\"#39e581\" stroke=\"#000000\" d=\"M1027,-417.5C1027,-417.5 936,-417.5 936,-417.5 930,-417.5 924,-411.5 924,-405.5 924,-405.5 924,-361.5 924,-361.5 924,-355.5 930,-349.5 936,-349.5 936,-349.5 1027,-349.5 1027,-349.5 1033,-349.5 1039,-355.5 1039,-361.5 1039,-361.5 1039,-405.5 1039,-405.5 1039,-411.5 1033,-417.5 1027,-417.5\"/>\n<text text-anchor=\"start\" x=\"939\" y=\"-402.3\" font-family=\"Helvetica,sans-Serif\" font-size=\"14.00\" fill=\"#000000\">entropy = 0.0</text>\n<text text-anchor=\"start\" x=\"942\" y=\"-387.3\" font-family=\"Helvetica,sans-Serif\" font-size=\"14.00\" fill=\"#000000\">samples = 1</text>\n<text text-anchor=\"start\" x=\"932\" y=\"-372.3\" font-family=\"Helvetica,sans-Serif\" font-size=\"14.00\" fill=\"#000000\">value = [0, 1, 0]</text>\n<text text-anchor=\"start\" x=\"942.5\" y=\"-357.3\" font-family=\"Helvetica,sans-Serif\" font-size=\"14.00\" fill=\"#000000\">class = high</text>\n</g>\n<!-- 23&#45;&gt;24 -->\n<g id=\"edge24\" class=\"edge\">\n<title>23&#45;&gt;24</title>\n<path fill=\"none\" stroke=\"#000000\" d=\"M981.5,-460.8796C981.5,-450.2134 981.5,-438.7021 981.5,-427.9015\"/>\n<polygon fill=\"#000000\" stroke=\"#000000\" points=\"985.0001,-427.8149 981.5,-417.8149 978.0001,-427.815 985.0001,-427.8149\"/>\n</g>\n<!-- 25 -->\n<g id=\"node26\" class=\"node\">\n<title>25</title>\n<path fill=\"#e58139\" stroke=\"#000000\" d=\"M1163.5,-417.5C1163.5,-417.5 1069.5,-417.5 1069.5,-417.5 1063.5,-417.5 1057.5,-411.5 1057.5,-405.5 1057.5,-405.5 1057.5,-361.5 1057.5,-361.5 1057.5,-355.5 1063.5,-349.5 1069.5,-349.5 1069.5,-349.5 1163.5,-349.5 1163.5,-349.5 1169.5,-349.5 1175.5,-355.5 1175.5,-361.5 1175.5,-361.5 1175.5,-405.5 1175.5,-405.5 1175.5,-411.5 1169.5,-417.5 1163.5,-417.5\"/>\n<text text-anchor=\"start\" x=\"1074\" y=\"-402.3\" font-family=\"Helvetica,sans-Serif\" font-size=\"14.00\" fill=\"#000000\">entropy = 0.0</text>\n<text text-anchor=\"start\" x=\"1077\" y=\"-387.3\" font-family=\"Helvetica,sans-Serif\" font-size=\"14.00\" fill=\"#000000\">samples = 6</text>\n<text text-anchor=\"start\" x=\"1067\" y=\"-372.3\" font-family=\"Helvetica,sans-Serif\" font-size=\"14.00\" fill=\"#000000\">value = [6, 0, 0]</text>\n<text text-anchor=\"start\" x=\"1065.5\" y=\"-357.3\" font-family=\"Helvetica,sans-Serif\" font-size=\"14.00\" fill=\"#000000\">class = medium</text>\n</g>\n<!-- 23&#45;&gt;25 -->\n<g id=\"edge25\" class=\"edge\">\n<title>23&#45;&gt;25</title>\n<path fill=\"none\" stroke=\"#000000\" d=\"M1028.7164,-460.8796C1042.0642,-449.1138 1056.5785,-436.3197 1069.8904,-424.5855\"/>\n<polygon fill=\"#000000\" stroke=\"#000000\" points=\"1072.384,-427.0531 1077.5713,-417.8149 1067.7552,-421.8019 1072.384,-427.0531\"/>\n</g>\n<!-- 27 -->\n<g id=\"node28\" class=\"node\">\n<title>27</title>\n<path fill=\"#eeab7b\" stroke=\"#000000\" d=\"M1064.5,-782C1064.5,-782 912.5,-782 912.5,-782 906.5,-782 900.5,-776 900.5,-770 900.5,-770 900.5,-711 900.5,-711 900.5,-705 906.5,-699 912.5,-699 912.5,-699 1064.5,-699 1064.5,-699 1070.5,-699 1076.5,-705 1076.5,-711 1076.5,-711 1076.5,-770 1076.5,-770 1076.5,-776 1070.5,-782 1064.5,-782\"/>\n<text text-anchor=\"start\" x=\"908.5\" y=\"-766.8\" font-family=\"Helvetica,sans-Serif\" font-size=\"14.00\" fill=\"#000000\">Confidence (0 &#45; 10) ≤ 6.5</text>\n<text text-anchor=\"start\" x=\"937.5\" y=\"-751.8\" font-family=\"Helvetica,sans-Serif\" font-size=\"14.00\" fill=\"#000000\">entropy = 0.811</text>\n<text text-anchor=\"start\" x=\"944.5\" y=\"-736.8\" font-family=\"Helvetica,sans-Serif\" font-size=\"14.00\" fill=\"#000000\">samples = 16</text>\n<text text-anchor=\"start\" x=\"935\" y=\"-721.8\" font-family=\"Helvetica,sans-Serif\" font-size=\"14.00\" fill=\"#000000\">value = [12, 0, 4]</text>\n<text text-anchor=\"start\" x=\"937.5\" y=\"-706.8\" font-family=\"Helvetica,sans-Serif\" font-size=\"14.00\" fill=\"#000000\">class = medium</text>\n</g>\n<!-- 26&#45;&gt;27 -->\n<g id=\"edge27\" class=\"edge\">\n<title>26&#45;&gt;27</title>\n<path fill=\"none\" stroke=\"#000000\" d=\"M989.1502,-817.8796C989.0814,-809.6838 989.0083,-800.9891 988.937,-792.5013\"/>\n<polygon fill=\"#000000\" stroke=\"#000000\" points=\"992.4352,-792.2683 988.8512,-782.2981 985.4355,-792.3272 992.4352,-792.2683\"/>\n</g>\n<!-- 34 -->\n<g id=\"node35\" class=\"node\">\n<title>34</title>\n<path fill=\"#e58139\" stroke=\"#000000\" d=\"M1206,-774.5C1206,-774.5 1107,-774.5 1107,-774.5 1101,-774.5 1095,-768.5 1095,-762.5 1095,-762.5 1095,-718.5 1095,-718.5 1095,-712.5 1101,-706.5 1107,-706.5 1107,-706.5 1206,-706.5 1206,-706.5 1212,-706.5 1218,-712.5 1218,-718.5 1218,-718.5 1218,-762.5 1218,-762.5 1218,-768.5 1212,-774.5 1206,-774.5\"/>\n<text text-anchor=\"start\" x=\"1114\" y=\"-759.3\" font-family=\"Helvetica,sans-Serif\" font-size=\"14.00\" fill=\"#000000\">entropy = 0.0</text>\n<text text-anchor=\"start\" x=\"1112.5\" y=\"-744.3\" font-family=\"Helvetica,sans-Serif\" font-size=\"14.00\" fill=\"#000000\">samples = 22</text>\n<text text-anchor=\"start\" x=\"1103\" y=\"-729.3\" font-family=\"Helvetica,sans-Serif\" font-size=\"14.00\" fill=\"#000000\">value = [22, 0, 0]</text>\n<text text-anchor=\"start\" x=\"1105.5\" y=\"-714.3\" font-family=\"Helvetica,sans-Serif\" font-size=\"14.00\" fill=\"#000000\">class = medium</text>\n</g>\n<!-- 26&#45;&gt;34 -->\n<g id=\"edge34\" class=\"edge\">\n<title>26&#45;&gt;34</title>\n<path fill=\"none\" stroke=\"#000000\" d=\"M1047.9085,-817.8796C1064.964,-805.7263 1083.5591,-792.4759 1100.4641,-780.4297\"/>\n<polygon fill=\"#000000\" stroke=\"#000000\" points=\"1102.5002,-783.2766 1108.6131,-774.623 1098.438,-777.5759 1102.5002,-783.2766\"/>\n</g>\n<!-- 28 -->\n<g id=\"node29\" class=\"node\">\n<title>28</title>\n<path fill=\"#e58139\" stroke=\"#000000\" d=\"M1035.5,-655.5C1035.5,-655.5 941.5,-655.5 941.5,-655.5 935.5,-655.5 929.5,-649.5 929.5,-643.5 929.5,-643.5 929.5,-599.5 929.5,-599.5 929.5,-593.5 935.5,-587.5 941.5,-587.5 941.5,-587.5 1035.5,-587.5 1035.5,-587.5 1041.5,-587.5 1047.5,-593.5 1047.5,-599.5 1047.5,-599.5 1047.5,-643.5 1047.5,-643.5 1047.5,-649.5 1041.5,-655.5 1035.5,-655.5\"/>\n<text text-anchor=\"start\" x=\"946\" y=\"-640.3\" font-family=\"Helvetica,sans-Serif\" font-size=\"14.00\" fill=\"#000000\">entropy = 0.0</text>\n<text text-anchor=\"start\" x=\"949\" y=\"-625.3\" font-family=\"Helvetica,sans-Serif\" font-size=\"14.00\" fill=\"#000000\">samples = 8</text>\n<text text-anchor=\"start\" x=\"939\" y=\"-610.3\" font-family=\"Helvetica,sans-Serif\" font-size=\"14.00\" fill=\"#000000\">value = [8, 0, 0]</text>\n<text text-anchor=\"start\" x=\"937.5\" y=\"-595.3\" font-family=\"Helvetica,sans-Serif\" font-size=\"14.00\" fill=\"#000000\">class = medium</text>\n</g>\n<!-- 27&#45;&gt;28 -->\n<g id=\"edge28\" class=\"edge\">\n<title>27&#45;&gt;28</title>\n<path fill=\"none\" stroke=\"#000000\" d=\"M988.5,-698.8796C988.5,-688.2134 988.5,-676.7021 988.5,-665.9015\"/>\n<polygon fill=\"#000000\" stroke=\"#000000\" points=\"992.0001,-665.8149 988.5,-655.8149 985.0001,-665.815 992.0001,-665.8149\"/>\n</g>\n<!-- 29 -->\n<g id=\"node30\" class=\"node\">\n<title>29</title>\n<path fill=\"#ffffff\" stroke=\"#000000\" d=\"M1309,-663C1309,-663 1078,-663 1078,-663 1072,-663 1066,-657 1066,-651 1066,-651 1066,-592 1066,-592 1066,-586 1072,-580 1078,-580 1078,-580 1309,-580 1309,-580 1315,-580 1321,-586 1321,-592 1321,-592 1321,-651 1321,-651 1321,-657 1315,-663 1309,-663\"/>\n<text text-anchor=\"start\" x=\"1074\" y=\"-647.8\" font-family=\"Helvetica,sans-Serif\" font-size=\"14.00\" fill=\"#000000\">Average Sleeping Hours (Daily) ≤ 7.5</text>\n<text text-anchor=\"start\" x=\"1151\" y=\"-632.8\" font-family=\"Helvetica,sans-Serif\" font-size=\"14.00\" fill=\"#000000\">entropy = 1.0</text>\n<text text-anchor=\"start\" x=\"1154\" y=\"-617.8\" font-family=\"Helvetica,sans-Serif\" font-size=\"14.00\" fill=\"#000000\">samples = 8</text>\n<text text-anchor=\"start\" x=\"1144\" y=\"-602.8\" font-family=\"Helvetica,sans-Serif\" font-size=\"14.00\" fill=\"#000000\">value = [4, 0, 4]</text>\n<text text-anchor=\"start\" x=\"1142.5\" y=\"-587.8\" font-family=\"Helvetica,sans-Serif\" font-size=\"14.00\" fill=\"#000000\">class = medium</text>\n</g>\n<!-- 27&#45;&gt;29 -->\n<g id=\"edge29\" class=\"edge\">\n<title>27&#45;&gt;29</title>\n<path fill=\"none\" stroke=\"#000000\" d=\"M1060.1991,-698.8796C1077.2088,-689.0056 1095.4661,-678.4075 1112.8448,-668.3193\"/>\n<polygon fill=\"#000000\" stroke=\"#000000\" points=\"1114.9501,-671.1443 1121.8414,-663.0969 1111.4358,-665.0903 1114.9501,-671.1443\"/>\n</g>\n<!-- 30 -->\n<g id=\"node31\" class=\"node\">\n<title>30</title>\n<path fill=\"#8139e5\" stroke=\"#000000\" d=\"M1229,-536.5C1229,-536.5 1138,-536.5 1138,-536.5 1132,-536.5 1126,-530.5 1126,-524.5 1126,-524.5 1126,-480.5 1126,-480.5 1126,-474.5 1132,-468.5 1138,-468.5 1138,-468.5 1229,-468.5 1229,-468.5 1235,-468.5 1241,-474.5 1241,-480.5 1241,-480.5 1241,-524.5 1241,-524.5 1241,-530.5 1235,-536.5 1229,-536.5\"/>\n<text text-anchor=\"start\" x=\"1141\" y=\"-521.3\" font-family=\"Helvetica,sans-Serif\" font-size=\"14.00\" fill=\"#000000\">entropy = 0.0</text>\n<text text-anchor=\"start\" x=\"1144\" y=\"-506.3\" font-family=\"Helvetica,sans-Serif\" font-size=\"14.00\" fill=\"#000000\">samples = 3</text>\n<text text-anchor=\"start\" x=\"1134\" y=\"-491.3\" font-family=\"Helvetica,sans-Serif\" font-size=\"14.00\" fill=\"#000000\">value = [0, 0, 3]</text>\n<text text-anchor=\"start\" x=\"1144.5\" y=\"-476.3\" font-family=\"Helvetica,sans-Serif\" font-size=\"14.00\" fill=\"#000000\">class = high</text>\n</g>\n<!-- 29&#45;&gt;30 -->\n<g id=\"edge30\" class=\"edge\">\n<title>29&#45;&gt;30</title>\n<path fill=\"none\" stroke=\"#000000\" d=\"M1190.0025,-579.8796C1189.1062,-569.2134 1188.1388,-557.7021 1187.2312,-546.9015\"/>\n<polygon fill=\"#000000\" stroke=\"#000000\" points=\"1190.7088,-546.4867 1186.3836,-536.8149 1183.7334,-547.0729 1190.7088,-546.4867\"/>\n</g>\n<!-- 31 -->\n<g id=\"node32\" class=\"node\">\n<title>31</title>\n<path fill=\"#eca06a\" stroke=\"#000000\" d=\"M1502,-544C1502,-544 1271,-544 1271,-544 1265,-544 1259,-538 1259,-532 1259,-532 1259,-473 1259,-473 1259,-467 1265,-461 1271,-461 1271,-461 1502,-461 1502,-461 1508,-461 1514,-467 1514,-473 1514,-473 1514,-532 1514,-532 1514,-538 1508,-544 1502,-544\"/>\n<text text-anchor=\"start\" x=\"1267\" y=\"-528.8\" font-family=\"Helvetica,sans-Serif\" font-size=\"14.00\" fill=\"#000000\">Average Sleeping Hours (Daily) ≤ 9.0</text>\n<text text-anchor=\"start\" x=\"1335.5\" y=\"-513.8\" font-family=\"Helvetica,sans-Serif\" font-size=\"14.00\" fill=\"#000000\">entropy = 0.722</text>\n<text text-anchor=\"start\" x=\"1347\" y=\"-498.8\" font-family=\"Helvetica,sans-Serif\" font-size=\"14.00\" fill=\"#000000\">samples = 5</text>\n<text text-anchor=\"start\" x=\"1337\" y=\"-483.8\" font-family=\"Helvetica,sans-Serif\" font-size=\"14.00\" fill=\"#000000\">value = [4, 0, 1]</text>\n<text text-anchor=\"start\" x=\"1335.5\" y=\"-468.8\" font-family=\"Helvetica,sans-Serif\" font-size=\"14.00\" fill=\"#000000\">class = medium</text>\n</g>\n<!-- 29&#45;&gt;31 -->\n<g id=\"edge31\" class=\"edge\">\n<title>29&#45;&gt;31</title>\n<path fill=\"none\" stroke=\"#000000\" d=\"M1261.002,-579.8796C1276.8692,-570.0962 1293.8894,-559.6019 1310.1156,-549.5971\"/>\n<polygon fill=\"#000000\" stroke=\"#000000\" points=\"1312.361,-552.3245 1319.0361,-544.0969 1308.6871,-546.3661 1312.361,-552.3245\"/>\n</g>\n<!-- 32 -->\n<g id=\"node33\" class=\"node\">\n<title>32</title>\n<path fill=\"#e58139\" stroke=\"#000000\" d=\"M1366.5,-417.5C1366.5,-417.5 1272.5,-417.5 1272.5,-417.5 1266.5,-417.5 1260.5,-411.5 1260.5,-405.5 1260.5,-405.5 1260.5,-361.5 1260.5,-361.5 1260.5,-355.5 1266.5,-349.5 1272.5,-349.5 1272.5,-349.5 1366.5,-349.5 1366.5,-349.5 1372.5,-349.5 1378.5,-355.5 1378.5,-361.5 1378.5,-361.5 1378.5,-405.5 1378.5,-405.5 1378.5,-411.5 1372.5,-417.5 1366.5,-417.5\"/>\n<text text-anchor=\"start\" x=\"1277\" y=\"-402.3\" font-family=\"Helvetica,sans-Serif\" font-size=\"14.00\" fill=\"#000000\">entropy = 0.0</text>\n<text text-anchor=\"start\" x=\"1280\" y=\"-387.3\" font-family=\"Helvetica,sans-Serif\" font-size=\"14.00\" fill=\"#000000\">samples = 4</text>\n<text text-anchor=\"start\" x=\"1270\" y=\"-372.3\" font-family=\"Helvetica,sans-Serif\" font-size=\"14.00\" fill=\"#000000\">value = [4, 0, 0]</text>\n<text text-anchor=\"start\" x=\"1268.5\" y=\"-357.3\" font-family=\"Helvetica,sans-Serif\" font-size=\"14.00\" fill=\"#000000\">class = medium</text>\n</g>\n<!-- 31&#45;&gt;32 -->\n<g id=\"edge32\" class=\"edge\">\n<title>31&#45;&gt;32</title>\n<path fill=\"none\" stroke=\"#000000\" d=\"M1363.0667,-460.8796C1356.8137,-449.7735 1350.0448,-437.7513 1343.749,-426.5691\"/>\n<polygon fill=\"#000000\" stroke=\"#000000\" points=\"1346.7761,-424.8116 1338.8202,-417.8149 1340.6765,-428.2459 1346.7761,-424.8116\"/>\n</g>\n<!-- 33 -->\n<g id=\"node34\" class=\"node\">\n<title>33</title>\n<path fill=\"#8139e5\" stroke=\"#000000\" d=\"M1500,-417.5C1500,-417.5 1409,-417.5 1409,-417.5 1403,-417.5 1397,-411.5 1397,-405.5 1397,-405.5 1397,-361.5 1397,-361.5 1397,-355.5 1403,-349.5 1409,-349.5 1409,-349.5 1500,-349.5 1500,-349.5 1506,-349.5 1512,-355.5 1512,-361.5 1512,-361.5 1512,-405.5 1512,-405.5 1512,-411.5 1506,-417.5 1500,-417.5\"/>\n<text text-anchor=\"start\" x=\"1412\" y=\"-402.3\" font-family=\"Helvetica,sans-Serif\" font-size=\"14.00\" fill=\"#000000\">entropy = 0.0</text>\n<text text-anchor=\"start\" x=\"1415\" y=\"-387.3\" font-family=\"Helvetica,sans-Serif\" font-size=\"14.00\" fill=\"#000000\">samples = 1</text>\n<text text-anchor=\"start\" x=\"1405\" y=\"-372.3\" font-family=\"Helvetica,sans-Serif\" font-size=\"14.00\" fill=\"#000000\">value = [0, 0, 1]</text>\n<text text-anchor=\"start\" x=\"1415.5\" y=\"-357.3\" font-family=\"Helvetica,sans-Serif\" font-size=\"14.00\" fill=\"#000000\">class = high</text>\n</g>\n<!-- 31&#45;&gt;33 -->\n<g id=\"edge33\" class=\"edge\">\n<title>31&#45;&gt;33</title>\n<path fill=\"none\" stroke=\"#000000\" d=\"M1410.2831,-460.8796C1416.6294,-449.7735 1423.4993,-437.7513 1429.8891,-426.5691\"/>\n<polygon fill=\"#000000\" stroke=\"#000000\" points=\"1432.9689,-428.2339 1434.8915,-417.8149 1426.8912,-424.7609 1432.9689,-428.2339\"/>\n</g>\n</g>\n</svg>\n"
          },
          "metadata": {},
          "execution_count": 57
        }
      ]
    },
    {
      "cell_type": "code",
      "source": [
        ""
      ],
      "metadata": {
        "id": "0bVn8B5C70Cm"
      },
      "execution_count": null,
      "outputs": []
    },
    {
      "cell_type": "markdown",
      "metadata": {
        "id": "6FPvsrNXYIAu"
      },
      "source": [
        "**New Section**\n",
        "# KNN"
      ]
    },
    {
      "cell_type": "code",
      "metadata": {
        "id": "xbcmymyWUJoh"
      },
      "source": [
        "from sklearn.preprocessing import StandardScaler\n",
        "scaler = StandardScaler()\n",
        "scaler.fit(X_train)\n",
        "\n",
        "X_train = scaler.transform(X_train)\n",
        "X_test = scaler.transform(X_test)"
      ],
      "execution_count": null,
      "outputs": []
    },
    {
      "cell_type": "code",
      "metadata": {
        "colab": {
          "base_uri": "https://localhost:8080/"
        },
        "id": "SnWidFs4V2i7",
        "outputId": "24fa2a9e-3794-43fb-8474-1d6096a0de3d"
      },
      "source": [
        "X_train[0:4,:]"
      ],
      "execution_count": null,
      "outputs": [
        {
          "output_type": "execute_result",
          "data": {
            "text/plain": [
              "array([[-0.70572975,  0.72647377,  0.54990865,  1.18000215, -1.56698116,\n",
              "         0.27524218,  0.29113859, -0.64775028,  0.43798113,  0.30706207],\n",
              "       [ 1.60994598,  0.72647377,  0.23125298, -0.32181877, -0.72966298,\n",
              "         0.27524218,  0.82744653,  0.86366703,  1.85299708, -0.58853564],\n",
              "       [ 0.06616216,  0.72647377,  0.23125298,  0.42909169,  0.94497337,\n",
              "         0.27524218, -1.31778522, -0.64775028, -0.50536284,  0.75486093],\n",
              "       [ 0.06616216, -0.07436346,  0.86856433, -0.32181877,  0.94497337,\n",
              "        -0.66460917,  0.82744653,  2.37508434, -0.03369086,  1.65045865]])"
            ]
          },
          "metadata": {},
          "execution_count": 59
        }
      ]
    },
    {
      "cell_type": "code",
      "metadata": {
        "colab": {
          "base_uri": "https://localhost:8080/"
        },
        "id": "hiLypFvCWVuj",
        "outputId": "8246141d-40ae-42e7-9722-bef6594a3779"
      },
      "source": [
        "from sklearn.neighbors import KNeighborsClassifier\n",
        "KNN = KNeighborsClassifier(n_neighbors=5)\n",
        "KNN.fit(X_train, y_train)"
      ],
      "execution_count": null,
      "outputs": [
        {
          "output_type": "execute_result",
          "data": {
            "text/plain": [
              "KNeighborsClassifier()"
            ]
          },
          "metadata": {},
          "execution_count": 60
        }
      ]
    },
    {
      "cell_type": "code",
      "source": [
        ""
      ],
      "metadata": {
        "id": "7J5v_CmksFyW"
      },
      "execution_count": null,
      "outputs": []
    },
    {
      "cell_type": "code",
      "metadata": {
        "id": "B6Lj4W8kYr3t"
      },
      "source": [
        "y_pred = KNN.predict(X_test)"
      ],
      "execution_count": null,
      "outputs": []
    },
    {
      "cell_type": "code",
      "metadata": {
        "colab": {
          "base_uri": "https://localhost:8080/"
        },
        "id": "WTITPr4leo1i",
        "outputId": "83f38782-6398-440d-b28e-3ff93ffbb5b1"
      },
      "source": [
        "from sklearn.metrics import confusion_matrix\n",
        "#Accuray of the model \n",
        "print(\"Accuracy:\", accuracy_score(y_test, y_pred))\n",
        "print(confusion_matrix(y_test, y_pred))"
      ],
      "execution_count": null,
      "outputs": [
        {
          "output_type": "stream",
          "name": "stdout",
          "text": [
            "Accuracy: 0.7222222222222222\n",
            "[[9 0 1]\n",
            " [0 0 1]\n",
            " [3 0 4]]\n"
          ]
        }
      ]
    },
    {
      "cell_type": "code",
      "metadata": {
        "colab": {
          "base_uri": "https://localhost:8080/"
        },
        "id": "Zt-pZD4mfMbQ",
        "outputId": "5ca0aeca-f6c9-4ad4-ec06-24b3e21b2b9f"
      },
      "source": [
        "error = []\n",
        "\n",
        "# Calculating error for K values between 1 and 40\n",
        "for i in range(1, 40):\n",
        "    knn = KNeighborsClassifier(n_neighbors=i)\n",
        "    knn.fit(X_train, y_train)\n",
        "    pred_i = knn.predict(X_test)\n",
        "    error.append(np.mean(pred_i != y_test))\n",
        "    print(np.mean(pred_i != y_test))"
      ],
      "execution_count": null,
      "outputs": [
        {
          "output_type": "stream",
          "name": "stdout",
          "text": [
            "0.16666666666666666\n",
            "0.3333333333333333\n",
            "0.2777777777777778\n",
            "0.2777777777777778\n",
            "0.2777777777777778\n",
            "0.4444444444444444\n",
            "0.2222222222222222\n",
            "0.3333333333333333\n",
            "0.2777777777777778\n",
            "0.3333333333333333\n",
            "0.2777777777777778\n",
            "0.2222222222222222\n",
            "0.2222222222222222\n",
            "0.2777777777777778\n",
            "0.3333333333333333\n",
            "0.2777777777777778\n",
            "0.3333333333333333\n",
            "0.3333333333333333\n",
            "0.3888888888888889\n",
            "0.3888888888888889\n",
            "0.3888888888888889\n",
            "0.4444444444444444\n",
            "0.3888888888888889\n",
            "0.4444444444444444\n",
            "0.3888888888888889\n",
            "0.4444444444444444\n",
            "0.4444444444444444\n",
            "0.4444444444444444\n",
            "0.4444444444444444\n",
            "0.4444444444444444\n",
            "0.4444444444444444\n",
            "0.4444444444444444\n",
            "0.4444444444444444\n",
            "0.4444444444444444\n",
            "0.4444444444444444\n",
            "0.4444444444444444\n",
            "0.4444444444444444\n",
            "0.4444444444444444\n",
            "0.4444444444444444\n"
          ]
        }
      ]
    },
    {
      "cell_type": "code",
      "metadata": {
        "colab": {
          "base_uri": "https://localhost:8080/",
          "height": 422
        },
        "id": "zW9-u3_CfdHw",
        "outputId": "373b55c6-044d-45e0-b235-94a8a14e6023"
      },
      "source": [
        "plt.figure(figsize=(12, 6))\n",
        "plt.plot(range(1, 40), error, color='red', linestyle='dashed', marker='o',\n",
        "         markerfacecolor='blue', markersize=10)\n",
        "plt.title('Error Rate K Value')\n",
        "plt.xlabel('K Value')\n",
        "plt.ylabel('Mean Error')"
      ],
      "execution_count": null,
      "outputs": [
        {
          "output_type": "execute_result",
          "data": {
            "text/plain": [
              "Text(0, 0.5, 'Mean Error')"
            ]
          },
          "metadata": {},
          "execution_count": 65
        },
        {
          "output_type": "display_data",
          "data": {
            "image/png": "[encoded data removed]",
            "text/plain": [
              "<Figure size 864x432 with 1 Axes>"
            ]
          },
          "metadata": {
            "needs_background": "light"
          }
        }
      ]
    },
    {
      "cell_type": "code",
      "source": [
        ""
      ],
      "metadata": {
        "id": "kULFOY5atmJy"
      },
      "execution_count": null,
      "outputs": []
    }
  ]
}